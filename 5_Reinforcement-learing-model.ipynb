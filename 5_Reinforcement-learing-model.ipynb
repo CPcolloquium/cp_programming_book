{
  "nbformat": 4,
  "nbformat_minor": 0,
  "metadata": {
    "colab": {
      "provenance": [],
      "toc_visible": true
    },
    "kernelspec": {
      "name": "ir",
      "display_name": "R"
    },
    "language_info": {
      "name": "R"
    }
  },
  "cells": [
    {
      "cell_type": "markdown",
      "source": [
        "# １. 強化学習モデルと本章で扱う内容について"
      ],
      "metadata": {
        "id": "57bJdE9R73Ib"
      }
    },
    {
      "cell_type": "markdown",
      "source": [
        "## 1.1 強化学習モデルの概要"
      ],
      "metadata": {
        "id": "1T4T6ja1_LGP"
      }
    },
    {
      "cell_type": "markdown",
      "source": [
        "## 1.2 本章の構成\n"
      ],
      "metadata": {
        "id": "8vJNdTQD_HbY"
      }
    },
    {
      "cell_type": "markdown",
      "source": [
        "## 1.3 行動データのファイルに関して"
      ],
      "metadata": {
        "id": "lu0gXkdq_FA1"
      }
    },
    {
      "cell_type": "markdown",
      "source": [
        "## 1.4 Rコードに関して"
      ],
      "metadata": {
        "id": "5lafNP1C--_C"
      }
    },
    {
      "cell_type": "code",
      "execution_count": 58,
      "metadata": {
        "id": "5r073_RqnfSN"
      },
      "outputs": [],
      "source": [
        "system(\"apt-get install -y fonts-noto-cjk\")"
      ]
    },
    {
      "cell_type": "code",
      "source": [
        "install.packages(\"tidyverse\")\n",
        "library(tidyverse)"
      ],
      "metadata": {
        "id": "D-jiSkhMnr8s",
        "outputId": "1e07ef53-de15-46e0-aa71-95f91cd3abd0",
        "colab": {
          "base_uri": "https://localhost:8080/"
        }
      },
      "execution_count": 59,
      "outputs": [
        {
          "output_type": "stream",
          "name": "stderr",
          "text": [
            "Installing package into ‘/usr/local/lib/R/site-library’\n",
            "(as ‘lib’ is unspecified)\n",
            "\n"
          ]
        }
      ]
    },
    {
      "cell_type": "code",
      "source": [
        "x <- c(1,2,3)\n",
        "x"
      ],
      "metadata": {
        "id": "Yg1pGgSQdAqE",
        "outputId": "c7d1a527-8d6b-4eec-9625-ada5ed9b3e6e",
        "colab": {
          "base_uri": "https://localhost:8080/",
          "height": 34
        }
      },
      "execution_count": 60,
      "outputs": [
        {
          "output_type": "display_data",
          "data": {
            "text/html": [
              "<style>\n",
              ".list-inline {list-style: none; margin:0; padding: 0}\n",
              ".list-inline>li {display: inline-block}\n",
              ".list-inline>li:not(:last-child)::after {content: \"\\00b7\"; padding: 0 .5ex}\n",
              "</style>\n",
              "<ol class=list-inline><li>1</li><li>2</li><li>3</li></ol>\n"
            ],
            "text/markdown": "1. 1\n2. 2\n3. 3\n\n\n",
            "text/latex": "\\begin{enumerate*}\n\\item 1\n\\item 2\n\\item 3\n\\end{enumerate*}\n",
            "text/plain": [
              "[1] 1 2 3"
            ]
          },
          "metadata": {}
        }
      ]
    },
    {
      "cell_type": "code",
      "source": [
        "x[1] <- 5\n",
        "x"
      ],
      "metadata": {
        "id": "O3cNi_MndB22",
        "outputId": "056c62d8-a5f6-47ff-f99b-f6db9866135c",
        "colab": {
          "base_uri": "https://localhost:8080/",
          "height": 34
        }
      },
      "execution_count": 61,
      "outputs": [
        {
          "output_type": "display_data",
          "data": {
            "text/html": [
              "<style>\n",
              ".list-inline {list-style: none; margin:0; padding: 0}\n",
              ".list-inline>li {display: inline-block}\n",
              ".list-inline>li:not(:last-child)::after {content: \"\\00b7\"; padding: 0 .5ex}\n",
              "</style>\n",
              "<ol class=list-inline><li>5</li><li>2</li><li>3</li></ol>\n"
            ],
            "text/markdown": "1. 5\n2. 2\n3. 3\n\n\n",
            "text/latex": "\\begin{enumerate*}\n\\item 5\n\\item 2\n\\item 3\n\\end{enumerate*}\n",
            "text/plain": [
              "[1] 5 2 3"
            ]
          },
          "metadata": {}
        }
      ]
    },
    {
      "cell_type": "code",
      "source": [
        "func_A <- function(a,b){\n",
        "  a + b\n",
        "}"
      ],
      "metadata": {
        "id": "9UQ9WWHjpUcT"
      },
      "execution_count": 62,
      "outputs": []
    },
    {
      "cell_type": "code",
      "source": [
        "func_A(1,4)"
      ],
      "metadata": {
        "id": "hUVpCn_Rp5Pg",
        "outputId": "f6bcd8fb-9459-41ff-e0bb-17af638227a9",
        "colab": {
          "base_uri": "https://localhost:8080/",
          "height": 34
        }
      },
      "execution_count": 63,
      "outputs": [
        {
          "output_type": "display_data",
          "data": {
            "text/html": [
              "5"
            ],
            "text/markdown": "5",
            "text/latex": "5",
            "text/plain": [
              "[1] 5"
            ]
          },
          "metadata": {}
        }
      ]
    },
    {
      "cell_type": "code",
      "source": [
        "# 同じ数値を繰り返す関数。以下の例では，1を5回繰り返す。\n",
        "rep(1,5)"
      ],
      "metadata": {
        "id": "IETYCJXEp61b",
        "outputId": "1a8f914c-7289-4f0d-d5d3-d7a3657e444d",
        "colab": {
          "base_uri": "https://localhost:8080/",
          "height": 34
        }
      },
      "execution_count": 64,
      "outputs": [
        {
          "output_type": "display_data",
          "data": {
            "text/html": [
              "<style>\n",
              ".list-inline {list-style: none; margin:0; padding: 0}\n",
              ".list-inline>li {display: inline-block}\n",
              ".list-inline>li:not(:last-child)::after {content: \"\\00b7\"; padding: 0 .5ex}\n",
              "</style>\n",
              "<ol class=list-inline><li>1</li><li>1</li><li>1</li><li>1</li><li>1</li></ol>\n"
            ],
            "text/markdown": "1. 1\n2. 1\n3. 1\n4. 1\n5. 1\n\n\n",
            "text/latex": "\\begin{enumerate*}\n\\item 1\n\\item 1\n\\item 1\n\\item 1\n\\item 1\n\\end{enumerate*}\n",
            "text/plain": [
              "[1] 1 1 1 1 1"
            ]
          },
          "metadata": {}
        }
      ]
    },
    {
      "cell_type": "code",
      "source": [
        "# 連続した値の生成する関数。 例は，1から5まで1間隔の値を生成。\n",
        "seq(1,5,by=1)"
      ],
      "metadata": {
        "id": "TGa0hf0ip8cj",
        "outputId": "9d580966-b930-489d-84ab-b5c1654eaf81",
        "colab": {
          "base_uri": "https://localhost:8080/",
          "height": 34
        }
      },
      "execution_count": 65,
      "outputs": [
        {
          "output_type": "display_data",
          "data": {
            "text/html": [
              "<style>\n",
              ".list-inline {list-style: none; margin:0; padding: 0}\n",
              ".list-inline>li {display: inline-block}\n",
              ".list-inline>li:not(:last-child)::after {content: \"\\00b7\"; padding: 0 .5ex}\n",
              "</style>\n",
              "<ol class=list-inline><li>1</li><li>2</li><li>3</li><li>4</li><li>5</li></ol>\n"
            ],
            "text/markdown": "1. 1\n2. 2\n3. 3\n4. 4\n5. 5\n\n\n",
            "text/latex": "\\begin{enumerate*}\n\\item 1\n\\item 2\n\\item 3\n\\item 4\n\\item 5\n\\end{enumerate*}\n",
            "text/plain": [
              "[1] 1 2 3 4 5"
            ]
          },
          "metadata": {}
        }
      ]
    },
    {
      "cell_type": "code",
      "source": [
        "# 要素の集合からランダムに指定した数の要素を取り出す関数。以下では，1,2,3の中から3個，ランダムに取り出す（ただし1回ずつ）。\n",
        "sample(c(1,2,3),3)"
      ],
      "metadata": {
        "id": "H1Qo8T_rp-Ai",
        "outputId": "0dee776d-d0df-4a1b-f648-2be3802dfd95",
        "colab": {
          "base_uri": "https://localhost:8080/",
          "height": 34
        }
      },
      "execution_count": 66,
      "outputs": [
        {
          "output_type": "display_data",
          "data": {
            "text/html": [
              "<style>\n",
              ".list-inline {list-style: none; margin:0; padding: 0}\n",
              ".list-inline>li {display: inline-block}\n",
              ".list-inline>li:not(:last-child)::after {content: \"\\00b7\"; padding: 0 .5ex}\n",
              "</style>\n",
              "<ol class=list-inline><li>2</li><li>3</li><li>1</li></ol>\n"
            ],
            "text/markdown": "1. 2\n2. 3\n3. 1\n\n\n",
            "text/latex": "\\begin{enumerate*}\n\\item 2\n\\item 3\n\\item 1\n\\end{enumerate*}\n",
            "text/plain": [
              "[1] 2 3 1"
            ]
          },
          "metadata": {}
        }
      ]
    },
    {
      "cell_type": "code",
      "source": [
        "# 以下では，1と0から10個の要素を，0.8:0.2の割合で取り出す。replace = TRUEで復元抽出を指定。\n",
        "sample(c(1,0), 10, prob = c(0.8, 0.2), replace = TRUE)"
      ],
      "metadata": {
        "id": "EoVoiiM2p_a5",
        "outputId": "d804b4dd-277a-422e-8b3e-8b6c4d5480d0",
        "colab": {
          "base_uri": "https://localhost:8080/",
          "height": 34
        }
      },
      "execution_count": 67,
      "outputs": [
        {
          "output_type": "display_data",
          "data": {
            "text/html": [
              "<style>\n",
              ".list-inline {list-style: none; margin:0; padding: 0}\n",
              ".list-inline>li {display: inline-block}\n",
              ".list-inline>li:not(:last-child)::after {content: \"\\00b7\"; padding: 0 .5ex}\n",
              "</style>\n",
              "<ol class=list-inline><li>0</li><li>1</li><li>0</li><li>0</li><li>1</li><li>0</li><li>1</li><li>1</li><li>1</li><li>0</li></ol>\n"
            ],
            "text/markdown": "1. 0\n2. 1\n3. 0\n4. 0\n5. 1\n6. 0\n7. 1\n8. 1\n9. 1\n10. 0\n\n\n",
            "text/latex": "\\begin{enumerate*}\n\\item 0\n\\item 1\n\\item 0\n\\item 0\n\\item 1\n\\item 0\n\\item 1\n\\item 1\n\\item 1\n\\item 0\n\\end{enumerate*}\n",
            "text/plain": [
              " [1] 0 1 0 0 1 0 1 1 1 0"
            ]
          },
          "metadata": {}
        }
      ]
    },
    {
      "cell_type": "code",
      "source": [
        "# 0から1の間の一様乱数を発生させる。実行する度に値が変わる。\n",
        "runif(1)"
      ],
      "metadata": {
        "id": "FdHgQcZMTtim",
        "outputId": "56545c3b-cb63-48ee-8e09-a65c4d30ab58",
        "colab": {
          "base_uri": "https://localhost:8080/",
          "height": 34
        }
      },
      "execution_count": 68,
      "outputs": [
        {
          "output_type": "display_data",
          "data": {
            "text/html": [
              "0.976815497037023"
            ],
            "text/markdown": "0.976815497037023",
            "text/latex": "0.976815497037023",
            "text/plain": [
              "[1] 0.9768155"
            ]
          },
          "metadata": {}
        }
      ]
    },
    {
      "cell_type": "code",
      "source": [
        "# 乱数を発生する時にシードを固定することで，同じ結果を再現できる。（123以外でも構わないが，値を変えると結果も変わる）\n",
        "set.seed(123)\n",
        "runif(1)"
      ],
      "metadata": {
        "id": "_xuzl7QTTwJB",
        "outputId": "7bfcfb01-452c-46e3-fc6c-f05dabc161cc",
        "colab": {
          "base_uri": "https://localhost:8080/",
          "height": 34
        }
      },
      "execution_count": 69,
      "outputs": [
        {
          "output_type": "display_data",
          "data": {
            "text/html": [
              "0.287577520124614"
            ],
            "text/markdown": "0.287577520124614",
            "text/latex": "0.287577520124614",
            "text/plain": [
              "[1] 0.2875775"
            ]
          },
          "metadata": {}
        }
      ]
    },
    {
      "cell_type": "code",
      "source": [
        "# 0.8の確率で \"A\", 0.2の確率で \"B\"。なぜなら，runif(1)が0,8以下になる確率は0.8なので。\n",
        "if(0.8 > runif(1)){\n",
        "  print(\"A\")\n",
        "} else {\n",
        "  print(\"B\")\n",
        "}"
      ],
      "metadata": {
        "id": "OBLIaG_bTyum",
        "outputId": "a05a1768-734f-4f08-c5ea-0d8ad407bfc7",
        "colab": {
          "base_uri": "https://localhost:8080/"
        }
      },
      "execution_count": 70,
      "outputs": [
        {
          "output_type": "stream",
          "name": "stdout",
          "text": [
            "[1] \"A\"\n"
          ]
        }
      ]
    },
    {
      "cell_type": "code",
      "source": [
        "# 指定した数の0を要素として持つベクトルを作成\n",
        "numeric(5)"
      ],
      "metadata": {
        "id": "ihDGbQ6zTc6U",
        "outputId": "942f10d5-00df-4e17-939b-018f9115352f",
        "colab": {
          "base_uri": "https://localhost:8080/",
          "height": 34
        }
      },
      "execution_count": 71,
      "outputs": [
        {
          "output_type": "display_data",
          "data": {
            "text/html": [
              "<style>\n",
              ".list-inline {list-style: none; margin:0; padding: 0}\n",
              ".list-inline>li {display: inline-block}\n",
              ".list-inline>li:not(:last-child)::after {content: \"\\00b7\"; padding: 0 .5ex}\n",
              "</style>\n",
              "<ol class=list-inline><li>0</li><li>0</li><li>0</li><li>0</li><li>0</li></ol>\n"
            ],
            "text/markdown": "1. 0\n2. 0\n3. 0\n4. 0\n5. 0\n\n\n",
            "text/latex": "\\begin{enumerate*}\n\\item 0\n\\item 0\n\\item 0\n\\item 0\n\\item 0\n\\end{enumerate*}\n",
            "text/plain": [
              "[1] 0 0 0 0 0"
            ]
          },
          "metadata": {}
        }
      ]
    },
    {
      "cell_type": "code",
      "source": [
        "# まず枠を作って，for文で各要素でsample関数の実行結果を入れる\n",
        "c <- numeric(5)\n",
        "for (i in 1:5){\n",
        "  c[i] <- sample(c(\"A\",\"B\"),1)\n",
        "}\n",
        "c"
      ],
      "metadata": {
        "id": "0DRRH1K6gCsu",
        "outputId": "aecdbc52-06fc-4f48-bced-81696c8ed038",
        "colab": {
          "base_uri": "https://localhost:8080/",
          "height": 34
        }
      },
      "execution_count": 72,
      "outputs": [
        {
          "output_type": "display_data",
          "data": {
            "text/html": [
              "<style>\n",
              ".list-inline {list-style: none; margin:0; padding: 0}\n",
              ".list-inline>li {display: inline-block}\n",
              ".list-inline>li:not(:last-child)::after {content: \"\\00b7\"; padding: 0 .5ex}\n",
              "</style>\n",
              "<ol class=list-inline><li>'A'</li><li>'B'</li><li>'A'</li><li>'B'</li><li>'B'</li></ol>\n"
            ],
            "text/markdown": "1. 'A'\n2. 'B'\n3. 'A'\n4. 'B'\n5. 'B'\n\n\n",
            "text/latex": "\\begin{enumerate*}\n\\item 'A'\n\\item 'B'\n\\item 'A'\n\\item 'B'\n\\item 'B'\n\\end{enumerate*}\n",
            "text/plain": [
              "[1] \"A\" \"B\" \"A\" \"B\" \"B\""
            ]
          },
          "metadata": {}
        }
      ]
    },
    {
      "cell_type": "code",
      "source": [
        "tb <- tibble(\n",
        "  a = c(1,2,3),\n",
        "  b = seq(1,3),\n",
        "  c = a+b\n",
        ")\n",
        "tb$a"
      ],
      "metadata": {
        "id": "_Mxpy1nlqA_r",
        "outputId": "2ad7984c-17d8-44eb-b8d0-fd6016f732e7",
        "colab": {
          "base_uri": "https://localhost:8080/",
          "height": 34
        }
      },
      "execution_count": 73,
      "outputs": [
        {
          "output_type": "display_data",
          "data": {
            "text/html": [
              "<style>\n",
              ".list-inline {list-style: none; margin:0; padding: 0}\n",
              ".list-inline>li {display: inline-block}\n",
              ".list-inline>li:not(:last-child)::after {content: \"\\00b7\"; padding: 0 .5ex}\n",
              "</style>\n",
              "<ol class=list-inline><li>1</li><li>2</li><li>3</li></ol>\n"
            ],
            "text/markdown": "1. 1\n2. 2\n3. 3\n\n\n",
            "text/latex": "\\begin{enumerate*}\n\\item 1\n\\item 2\n\\item 3\n\\end{enumerate*}\n",
            "text/plain": [
              "[1] 1 2 3"
            ]
          },
          "metadata": {}
        }
      ]
    },
    {
      "cell_type": "markdown",
      "source": [
        "**★スクラッチコードで，以下のコードを書いて，tbの中身を確認してみましょう。**\n",
        "- head(tb)\n",
        "- str(tb)"
      ],
      "metadata": {
        "id": "-9OIUva_D7zG"
      }
    },
    {
      "cell_type": "markdown",
      "source": [
        "# ２. 本章で扱う行動課題"
      ],
      "metadata": {
        "id": "9vBTqKsq8OHr"
      }
    },
    {
      "cell_type": "markdown",
      "source": [
        "## 2.1 課題を体験してみよう\n"
      ],
      "metadata": {
        "id": "MUMhSXQ7FD-F"
      }
    },
    {
      "cell_type": "markdown",
      "source": [
        "## 2.2 関数の作成（課題設定用コード）"
      ],
      "metadata": {
        "id": "hW2uWZ_jy2GJ"
      }
    },
    {
      "cell_type": "code",
      "source": [
        "func_TaskSetting <- function(pA = 0.8){ #pAのデフォルトは0.8に設定。\n",
        "\n",
        "  # outA: 逆転前はpAの確率で報酬(1)，1-pAの確率で報酬なし(0)。逆転後は逆。\n",
        "  # outB: 逆転前は1-pAの確率で報酬(1)，pAの確率で報酬なし(0)。逆転後は逆。\n",
        "\n",
        "  setting <- tibble(\n",
        "    block = c(rep(1,80),rep(2,80)),# 各ブロック80試行\n",
        "    trial = seq(1,160),\n",
        "    outA = c(sample(c(1,0), 80, prob= c(pA, 1-pA), replace = TRUE),\n",
        "             sample(c(1,0), 80, prob= c(1-pA, pA), replace = TRUE)),\n",
        "    outB = c(sample(c(1,0), 80, prob= c(1-pA, pA), replace = TRUE),\n",
        "             sample(c(1,0), 80, prob= c(pA, 1-pA), replace = TRUE))\n",
        "    )\n",
        "\n",
        "  setting # 最後の行が戻り値になる\n",
        "}"
      ],
      "metadata": {
        "id": "3sN3j2ZUqDRE"
      },
      "execution_count": 74,
      "outputs": []
    },
    {
      "cell_type": "code",
      "source": [
        "set.seed(123)\n",
        "setting <- func_TaskSetting()"
      ],
      "metadata": {
        "id": "qEwyKK0xqNkh"
      },
      "execution_count": 75,
      "outputs": []
    },
    {
      "cell_type": "code",
      "source": [
        "print(setting)"
      ],
      "metadata": {
        "id": "ujnrZMtaqTMR",
        "outputId": "244e7b5e-bd7b-4bf2-907d-6714125337ab",
        "colab": {
          "base_uri": "https://localhost:8080/"
        }
      },
      "execution_count": 76,
      "outputs": [
        {
          "output_type": "stream",
          "name": "stdout",
          "text": [
            "\u001b[90m# A tibble: 160 × 4\u001b[39m\n",
            "   block trial  outA  outB\n",
            "   \u001b[3m\u001b[90m<dbl>\u001b[39m\u001b[23m \u001b[3m\u001b[90m<int>\u001b[39m\u001b[23m \u001b[3m\u001b[90m<dbl>\u001b[39m\u001b[23m \u001b[3m\u001b[90m<dbl>\u001b[39m\u001b[23m\n",
            "\u001b[90m 1\u001b[39m     1     1     1     0\n",
            "\u001b[90m 2\u001b[39m     1     2     1     0\n",
            "\u001b[90m 3\u001b[39m     1     3     1     0\n",
            "\u001b[90m 4\u001b[39m     1     4     0     0\n",
            "\u001b[90m 5\u001b[39m     1     5     0     0\n",
            "\u001b[90m 6\u001b[39m     1     6     1     0\n",
            "\u001b[90m 7\u001b[39m     1     7     1     0\n",
            "\u001b[90m 8\u001b[39m     1     8     0     0\n",
            "\u001b[90m 9\u001b[39m     1     9     1     0\n",
            "\u001b[90m10\u001b[39m     1    10     1     0\n",
            "\u001b[90m# ℹ 150 more rows\u001b[39m\n"
          ]
        }
      ]
    },
    {
      "cell_type": "code",
      "source": [
        "setting |>\n",
        "  group_by(block) |> # blockごとに集計することを指定\n",
        "  summarise(A = mean(outA), # outAが1の確率\n",
        "            B = mean(outB)) # outBが1の確率"
      ],
      "metadata": {
        "id": "E5Ko_XHNqVJV",
        "outputId": "307f1249-ab29-4fed-8ed9-a9ba6db326ae",
        "colab": {
          "base_uri": "https://localhost:8080/",
          "height": 161
        }
      },
      "execution_count": 77,
      "outputs": [
        {
          "output_type": "display_data",
          "data": {
            "text/html": [
              "<table class=\"dataframe\">\n",
              "<caption>A tibble: 2 × 3</caption>\n",
              "<thead>\n",
              "\t<tr><th scope=col>block</th><th scope=col>A</th><th scope=col>B</th></tr>\n",
              "\t<tr><th scope=col>&lt;dbl&gt;</th><th scope=col>&lt;dbl&gt;</th><th scope=col>&lt;dbl&gt;</th></tr>\n",
              "</thead>\n",
              "<tbody>\n",
              "\t<tr><td>1</td><td>0.8125</td><td>0.1875</td></tr>\n",
              "\t<tr><td>2</td><td>0.1875</td><td>0.8250</td></tr>\n",
              "</tbody>\n",
              "</table>\n"
            ],
            "text/markdown": "\nA tibble: 2 × 3\n\n| block &lt;dbl&gt; | A &lt;dbl&gt; | B &lt;dbl&gt; |\n|---|---|---|\n| 1 | 0.8125 | 0.1875 |\n| 2 | 0.1875 | 0.8250 |\n\n",
            "text/latex": "A tibble: 2 × 3\n\\begin{tabular}{lll}\n block & A & B\\\\\n <dbl> & <dbl> & <dbl>\\\\\n\\hline\n\t 1 & 0.8125 & 0.1875\\\\\n\t 2 & 0.1875 & 0.8250\\\\\n\\end{tabular}\n",
            "text/plain": [
              "  block A      B     \n",
              "1 1     0.8125 0.1875\n",
              "2 2     0.1875 0.8250"
            ]
          },
          "metadata": {}
        }
      ]
    },
    {
      "cell_type": "markdown",
      "source": [
        "## 2.3 課題設定の可視化"
      ],
      "metadata": {
        "id": "fUS8vMh5qZ6p"
      }
    },
    {
      "cell_type": "code",
      "source": [
        "gA <- ggplot(setting, aes(x = trial, y = outA))+ #データフレーム，x軸，y軸を設定\n",
        "  geom_point(color = \"red\")+ # geom_point()で散布図を作成。\n",
        "  geom_vline(xintercept = 81, lty = \"dashed\")+ # 垂線を引く。切片は逆転する81試行目を指定\n",
        "  scale_y_continuous(breaks=c(0,1))+ # y軸の目盛り設定\n",
        "  scale_x_continuous(breaks=seq(0, 160, by=40))+ # x軸の目盛り設定\n",
        "  theme_classic(base_size = 18)+ # 見た目の設定\n",
        "  ggtitle(\"選択肢Aを選んだ時の結果\") # 図のタイトルを設定\n",
        "\n",
        "gB <- ggplot(setting, aes(x = trial, y = outB))+\n",
        "  geom_point(color = \"blue\")+\n",
        "  geom_vline(xintercept = 81, lty = \"dashed\")+\n",
        "  scale_y_continuous(breaks=c(0,1))+\n",
        "  scale_x_continuous(breaks=seq(0, 160, by=40))+\n",
        "  theme_classic(base_size = 18)+\n",
        "  ggtitle(\"選択肢Bを選んだ時の結果\")"
      ],
      "metadata": {
        "id": "XjGTv1SAqaWg"
      },
      "execution_count": 78,
      "outputs": []
    },
    {
      "cell_type": "code",
      "source": [
        "install.packages(\"gridExtra\")\n",
        "library(gridExtra)\n",
        "grid.arrange(gA, gB, nrow = 2) # 縦に２つ図を並べる"
      ],
      "metadata": {
        "id": "CouBt91Gqcnq",
        "outputId": "2d42ba2c-af53-4fa2-b777-7752e593a0c3",
        "colab": {
          "base_uri": "https://localhost:8080/",
          "height": 489
        }
      },
      "execution_count": 79,
      "outputs": [
        {
          "output_type": "stream",
          "name": "stderr",
          "text": [
            "Installing package into ‘/usr/local/lib/R/site-library’\n",
            "(as ‘lib’ is unspecified)\n",
            "\n"
          ]
        },
        {
          "output_type": "display_data",
          "data": {
            "text/plain": [
              "plot without title"
            ],
            "image/png": "[encoded data removed]"
          },
          "metadata": {
            "image/png": {
              "width": 420,
              "height": 420
            }
          }
        }
      ]
    },
    {
      "cell_type": "markdown",
      "source": [
        "# ３. 強化学習モデル"
      ],
      "metadata": {
        "id": "NNblis4S9CbY"
      }
    },
    {
      "cell_type": "markdown",
      "source": [
        "## 3.1 価値の更新"
      ],
      "metadata": {
        "id": "eAcH9HBR9D97"
      }
    },
    {
      "cell_type": "code",
      "source": [
        "alpha <- 0.2 #学習率\n",
        "Q <- 0.4 # 更新前Q値\n",
        "R <- 1 # 1: 報酬あり, 0: 報酬なし\n",
        "\n",
        "Q <- Q + alpha*(R - Q) # Q値を更新\n",
        "Q # 更新後のQ値"
      ],
      "metadata": {
        "id": "ZnKO33sfqfEQ",
        "outputId": "25efcd76-292a-42c8-ec35-b9abd4dde526",
        "colab": {
          "base_uri": "https://localhost:8080/",
          "height": 34
        }
      },
      "execution_count": 80,
      "outputs": [
        {
          "output_type": "display_data",
          "data": {
            "text/html": [
              "0.52"
            ],
            "text/markdown": "0.52",
            "text/latex": "0.52",
            "text/plain": [
              "[1] 0.52"
            ]
          },
          "metadata": {}
        }
      ]
    },
    {
      "cell_type": "code",
      "source": [
        "alphas <- seq(0,1,0.2) # 0から1まで0.2刻みのシーケンスを作成\n",
        "\n",
        "for (i in alphas){\n",
        "\n",
        "  # alphasのi番目の要素をalphaとする\n",
        "  alpha <- i\n",
        "\n",
        "  # 以下は上で示したコードと変わらない。\n",
        "  Q <- 0.4 #更新前のQ値\n",
        "  R <- 1\n",
        "  Q <- Q + alpha*(R - Q)\n",
        "  Q # 更新後のQ値\n",
        "\n",
        "  cat(\"alpha:\",i, \",更新後のQ値:\",Q, end = \"\\n\")\n",
        "}"
      ],
      "metadata": {
        "id": "qQDoqKot9MfJ",
        "outputId": "f6f541bd-5610-4452-9258-21fdd93d37c0",
        "colab": {
          "base_uri": "https://localhost:8080/"
        }
      },
      "execution_count": 81,
      "outputs": [
        {
          "output_type": "stream",
          "name": "stdout",
          "text": [
            "alpha: 0 ,更新後のQ値: 0.4 \n",
            "alpha: 0.2 ,更新後のQ値: 0.52 \n",
            "alpha: 0.4 ,更新後のQ値: 0.64 \n",
            "alpha: 0.6 ,更新後のQ値: 0.76 \n",
            "alpha: 0.8 ,更新後のQ値: 0.88 \n",
            "alpha: 1 ,更新後のQ値: 1 \n"
          ]
        }
      ]
    },
    {
      "cell_type": "code",
      "source": [
        "alpha <- 0.2\n",
        "Q <- numeric(5) # 長さが5の数値ベクトル\n",
        "Q[1] = 0.5 # Qの初期値を0.5に\n",
        "R <- c(1,1,0,1,1) # 5試行分の報酬結果の系列\n",
        "\n",
        "# 5試行目の報酬結果は計算しない\n",
        "for (t in 1:4){\n",
        "  #t試行目のQ値をt試行目の報酬結果で更新\n",
        "  Q[t+1] = Q[t] + alpha*(R[t]-Q[t])\n",
        "}"
      ],
      "metadata": {
        "id": "775QFUqe9PW6"
      },
      "execution_count": 82,
      "outputs": []
    },
    {
      "cell_type": "code",
      "source": [
        "Q"
      ],
      "metadata": {
        "id": "XwKkg1IU9QxZ",
        "outputId": "4dba53f5-74c2-4172-8569-3dc54587e82c",
        "colab": {
          "base_uri": "https://localhost:8080/",
          "height": 34
        }
      },
      "execution_count": 83,
      "outputs": [
        {
          "output_type": "display_data",
          "data": {
            "text/html": [
              "<style>\n",
              ".list-inline {list-style: none; margin:0; padding: 0}\n",
              ".list-inline>li {display: inline-block}\n",
              ".list-inline>li:not(:last-child)::after {content: \"\\00b7\"; padding: 0 .5ex}\n",
              "</style>\n",
              "<ol class=list-inline><li>0.5</li><li>0.6</li><li>0.68</li><li>0.544</li><li>0.6352</li></ol>\n"
            ],
            "text/markdown": "1. 0.5\n2. 0.6\n3. 0.68\n4. 0.544\n5. 0.6352\n\n\n",
            "text/latex": "\\begin{enumerate*}\n\\item 0.5\n\\item 0.6\n\\item 0.68\n\\item 0.544\n\\item 0.6352\n\\end{enumerate*}\n",
            "text/plain": [
              "[1] 0.5000 0.6000 0.6800 0.5440 0.6352"
            ]
          },
          "metadata": {}
        }
      ]
    },
    {
      "cell_type": "markdown",
      "source": [
        "## 3.2 選択確率の計算"
      ],
      "metadata": {
        "id": "z19YXEUq9UAf"
      }
    },
    {
      "cell_type": "code",
      "source": [
        "beta <- 5 # βの値\n",
        "Q_A <- 1.0 # Aの価値\n",
        "Q_B <- 0.8 # Bの価値\n",
        "P_A <- 1/(1+exp(-beta*(Q_A -Q_B))) # 式#参照\n",
        "P_B <- 1-P_A\n",
        "\n",
        "cat(\"Aの選択確率: \", P_A, end=\"\\n\")\n",
        "cat(\"Bの選択確率: \", P_B)"
      ],
      "metadata": {
        "id": "0y-PW2mC9SDt",
        "outputId": "b80a62b8-0537-4170-eeae-321d36761b82",
        "colab": {
          "base_uri": "https://localhost:8080/"
        }
      },
      "execution_count": 84,
      "outputs": [
        {
          "output_type": "stream",
          "name": "stdout",
          "text": [
            "Aの選択確率:  0.7310586 \n",
            "Bの選択確率:  0.2689414"
          ]
        }
      ]
    },
    {
      "cell_type": "markdown",
      "source": [
        "## 3.3 選択"
      ],
      "metadata": {
        "id": "nL4-DVzmSIJM"
      }
    },
    {
      "cell_type": "code",
      "source": [
        "P_A <- 0.8 # Aを選ぶ確率\n",
        "\n",
        "# P_Aに基づいて，選択cを決める\n",
        "if(P_A > runif(1)){ # 0-1の乱数がP_Aより小さい場合\n",
        "  c <- \"A\" # 選択(c)にAを代入\n",
        "} else {\n",
        "  c <- \"B\" # 選択(c)にBを代入\n",
        "}\n",
        "c"
      ],
      "metadata": {
        "id": "y-fShCdm9e7Z",
        "outputId": "759e25ae-7be7-4dba-cdbc-767f9de4c2a0",
        "colab": {
          "base_uri": "https://localhost:8080/",
          "height": 34
        }
      },
      "execution_count": 85,
      "outputs": [
        {
          "output_type": "display_data",
          "data": {
            "text/html": [
              "'B'"
            ],
            "text/markdown": "'B'",
            "text/latex": "'B'",
            "text/plain": [
              "[1] \"B\""
            ]
          },
          "metadata": {}
        }
      ]
    },
    {
      "cell_type": "code",
      "source": [
        "set.seed(123)\n",
        "c <- numeric(100)\n",
        "P_A <- 0.8\n",
        "for(i in 1:100){\n",
        "  if(P_A > runif(1)){ # 0-1の乱数がP_Aより小さい場合\n",
        "    c[i] <- \"A\" # cのi番目にAを代入\n",
        "  } else {\n",
        "    c[i] <- \"B\" # cのi番目にBを代入\n",
        "  }\n",
        "}\n",
        "\n",
        "table(c)# AとBが出た回数を集計"
      ],
      "metadata": {
        "id": "5G0JBhTy9ktW",
        "outputId": "3619374e-d356-4a7c-b3e4-caa6944eb50d",
        "colab": {
          "base_uri": "https://localhost:8080/",
          "height": 69
        }
      },
      "execution_count": 86,
      "outputs": [
        {
          "output_type": "display_data",
          "data": {
            "text/plain": [
              "c\n",
              " A  B \n",
              "82 18 "
            ]
          },
          "metadata": {}
        }
      ]
    },
    {
      "cell_type": "markdown",
      "source": [
        "# ４. 行動データの生成\n"
      ],
      "metadata": {
        "id": "1UDuCzJZ9nF1"
      }
    },
    {
      "cell_type": "markdown",
      "source": [
        "## 4.1 関数の作成（データ生成用コード）"
      ],
      "metadata": {
        "id": "ybhW6n8ny8lN"
      }
    },
    {
      "cell_type": "code",
      "source": [
        "func_DataGeneration <- function(param, setting){\n",
        "\n",
        "  # [1] 引数のparmに基づいてパラメータを設定\n",
        "  alpha <- param[1] # 学習率はparamの1つ目の値\n",
        "  beta <- param[2] # 逆温度はparamの2つ目の値\n",
        "\n",
        "  # [2] 引数のsettingに基づいて課題の設定\n",
        "  outA <- setting$outA # 各試行でAを選んだ場合の結果\n",
        "  outB <- setting$outB # 各試行でBを選んだ場合の結果\n",
        "  trials <- setting$trial # 試行番号（1~160）\n",
        "  Ntrial <- length(trials) # 試行数\n",
        "\n",
        "\n",
        "  # [3] 各試行の情報を入れていく変数の設定（試行数分の整数型ベクトル）\n",
        "  c <- numeric(Ntrial) # 各試行の選択を入れる枠\n",
        "  r <- numeric(Ntrial) # 各試行の報酬結果を入れる枠\n",
        "  Q_A <- numeric(Ntrial) # 各試行のAのQ値を入れる枠\n",
        "  Q_B <- numeric(Ntrial) # 各試行のBのQ値を入れる枠\n",
        "  p_A <- numeric(Ntrial) # 各試行のAの選択確率を入れる枠\n",
        "  RPE <- numeric(Ntrial) # 各試行の報酬予測誤差を入れる枠\n",
        "\n",
        "  # [4] Qの初期値の設定\n",
        "  Q_A[1] <- 0.5\n",
        "  Q_B[1] <- 0.5\n",
        "\n",
        "  # [5] 価値の更新と選択（試行数分繰り返す）\n",
        "  for (t in 1:Ntrial){# for文で試行数分繰り返す。\n",
        "\n",
        "    # [5-1]選択肢Aの選択確率\n",
        "    p_A[t] <- exp(beta*(Q_A[t]))/(exp(beta*(Q_A[t])) + exp(beta*(Q_B[t])))\n",
        "\n",
        "    # [5-2]選択確率に基づく0~1の乱数を１つ発生させ，それを受け選択を生成\n",
        "    if(p_A[t] > runif(1)){ # 乱数の値がp_A（Aの選択確率）より小さい時\n",
        "      c[t] <- 1 # choice A\n",
        "      r[t] <- outA[t]\n",
        "      RPE[t] <- r[t]-Q_A[t]\n",
        "    } else { # 乱数がp_A以上の時\n",
        "      c[t] <- 2 # choice B\n",
        "      r[t] <- outB[t]\n",
        "      RPE[t] <- r[t]-Q_B[t]\n",
        "    }\n",
        "\n",
        "    # [5-3]価値の更新\n",
        "    if(t < Ntrial){ # t=Ntrialの場合は，t+1試行目はないので\n",
        "\n",
        "      if(c[t] == 1){ # Aを選択していた場合\n",
        "        Q_A[t+1] <- Q_A[t] + alpha*RPE[t]\n",
        "        Q_B[t+1] <- Q_B[t]\n",
        "      }\n",
        "\n",
        "      if(c[t] == 2){ # Bを選択していた場合\n",
        "         Q_B[t+1] <- Q_B[t] + alpha*RPE[t]\n",
        "         Q_A[t+1] <- Q_A[t]\n",
        "      }\n",
        "    }\n",
        "  }\n",
        "\n",
        "  # [6]結果の記録。dfが戻り値\n",
        "\n",
        "  df <- tibble(\n",
        "    trial = trials,\n",
        "    QA = Q_A,\n",
        "    QB =Q_B,\n",
        "    choice = c,\n",
        "    reward = r,\n",
        "    pA = p_A,\n",
        "    pB = 1-p_A,\n",
        "    RPE = RPE)\n",
        "}\n"
      ],
      "metadata": {
        "id": "NMiqcB4W9qrW"
      },
      "execution_count": 87,
      "outputs": []
    },
    {
      "cell_type": "markdown",
      "source": [
        "## 4.2 1人分のデータ生成"
      ],
      "metadata": {
        "id": "OuL0VPqsqi_9"
      }
    },
    {
      "cell_type": "code",
      "source": [
        "set.seed(123)\n",
        "tmp_param <- c(0.2, 5)\n",
        "tmp_setting <- func_TaskSetting()"
      ],
      "metadata": {
        "id": "OPd9IYKU-ODH"
      },
      "execution_count": 88,
      "outputs": []
    },
    {
      "cell_type": "code",
      "source": [
        "res <- func_DataGeneration(tmp_param, tmp_setting)\n",
        "print(res)"
      ],
      "metadata": {
        "id": "Up0YGdw7-QOi",
        "outputId": "72fe7121-1efe-44d5-bee2-f8c1ea55f5da",
        "colab": {
          "base_uri": "https://localhost:8080/"
        }
      },
      "execution_count": 89,
      "outputs": [
        {
          "output_type": "stream",
          "name": "stdout",
          "text": [
            "\u001b[90m# A tibble: 160 × 8\u001b[39m\n",
            "   trial    QA    QB choice reward    pA    pB    RPE\n",
            "   \u001b[3m\u001b[90m<int>\u001b[39m\u001b[23m \u001b[3m\u001b[90m<dbl>\u001b[39m\u001b[23m \u001b[3m\u001b[90m<dbl>\u001b[39m\u001b[23m  \u001b[3m\u001b[90m<dbl>\u001b[39m\u001b[23m  \u001b[3m\u001b[90m<dbl>\u001b[39m\u001b[23m \u001b[3m\u001b[90m<dbl>\u001b[39m\u001b[23m \u001b[3m\u001b[90m<dbl>\u001b[39m\u001b[23m  \u001b[3m\u001b[90m<dbl>\u001b[39m\u001b[23m\n",
            "\u001b[90m 1\u001b[39m     1 0.5    0.5       2      0 0.5   0.5   -\u001b[31m0\u001b[39m\u001b[31m.\u001b[39m\u001b[31m5\u001b[39m  \n",
            "\u001b[90m 2\u001b[39m     2 0.5    0.4       1      1 0.622 0.378  0.5  \n",
            "\u001b[90m 3\u001b[39m     3 0.6    0.4       1      1 0.731 0.269  0.4  \n",
            "\u001b[90m 4\u001b[39m     4 0.68   0.4       1      0 0.802 0.198 -\u001b[31m0\u001b[39m\u001b[31m.\u001b[39m\u001b[31m68\u001b[39m \n",
            "\u001b[90m 5\u001b[39m     5 0.544  0.4       1      0 0.673 0.327 -\u001b[31m0\u001b[39m\u001b[31m.\u001b[39m\u001b[31m544\u001b[39m\n",
            "\u001b[90m 6\u001b[39m     6 0.435  0.4       1      1 0.544 0.456  0.565\n",
            "\u001b[90m 7\u001b[39m     7 0.548  0.4       2      0 0.677 0.323 -\u001b[31m0\u001b[39m\u001b[31m.\u001b[39m\u001b[31m4\u001b[39m  \n",
            "\u001b[90m 8\u001b[39m     8 0.548  0.32      1      0 0.758 0.242 -\u001b[31m0\u001b[39m\u001b[31m.\u001b[39m\u001b[31m548\u001b[39m\n",
            "\u001b[90m 9\u001b[39m     9 0.439  0.32      1      1 0.644 0.356  0.561\n",
            "\u001b[90m10\u001b[39m    10 0.551  0.32      2      0 0.760 0.240 -\u001b[31m0\u001b[39m\u001b[31m.\u001b[39m\u001b[31m32\u001b[39m \n",
            "\u001b[90m# ℹ 150 more rows\u001b[39m\n"
          ]
        }
      ]
    },
    {
      "cell_type": "code",
      "source": [
        "g <- ggplot(res, aes(x = trial, y = QA))+\n",
        "  geom_line(color = \"red\")+ #QAを赤でプロット\n",
        "  geom_line(aes(y = QB),color = \"blue\")+ # yの指定だけQBに変更し青でプロット\n",
        "  geom_vline(xintercept = 81, lty = \"dashed\")+ #geom_vlineでvertical lineつまり縦線を描く。\n",
        "  scale_y_continuous(breaks = seq(0, 1, by = 0.2), limit = c(0,1))+ # y軸の目盛り設定\n",
        "  scale_x_continuous(breaks=seq(0, 160, by=40))+ # x軸の目盛り設定\n",
        "  theme_classic(base_size = 20)+\n",
        "  ylab(\"Q\")+\n",
        "  ggtitle(\"学習率0.2, 逆温度5\")\n",
        "\n",
        "g"
      ],
      "metadata": {
        "id": "KZR3s9oF-TRT",
        "outputId": "43920109-ce18-4281-8159-78e8970becf7",
        "colab": {
          "base_uri": "https://localhost:8080/",
          "height": 437
        }
      },
      "execution_count": 90,
      "outputs": [
        {
          "output_type": "display_data",
          "data": {
            "text/plain": [
              "plot without title"
            ],
            "image/png": "[encoded data removed]"
          },
          "metadata": {
            "image/png": {
              "width": 420,
              "height": 420
            }
          }
        }
      ]
    },
    {
      "cell_type": "code",
      "source": [
        "Nsim <- 100 #シミュレーションの回数\n",
        "\n",
        "res100 <- tibble()\n",
        "set.seed(123)\n",
        "tmp_param <- c(0.2, 5)\n",
        "\n",
        "for (i in 1:Nsim){\n",
        "  tmp_setting <- func_TaskSetting()\n",
        "  res <- func_DataGeneration(param = tmp_param, setting = tmp_setting) |>\n",
        "    left_join(setting, by = \"trial\") |> # 課題の設定情報を追加\n",
        "    mutate(id = i) # id列を追加。値はi。\n",
        "  res100 <- bind_rows(res100, res)\n",
        "}"
      ],
      "metadata": {
        "id": "PPxaElzI-VYZ"
      },
      "execution_count": 91,
      "outputs": []
    },
    {
      "cell_type": "markdown",
      "source": [
        "## 4.3 100人分のデータ生成"
      ],
      "metadata": {
        "id": "l66H2HcJ-bye"
      }
    },
    {
      "cell_type": "code",
      "source": [
        "Nsim <- 100 #シミュレーションの回数\n",
        "\n",
        "res100 <- tibble()\n",
        "set.seed(123)\n",
        "tmp_param <- c(0.2, 5)\n",
        "\n",
        "for (i in 1:Nsim){\n",
        "  tmp_setting <- func_TaskSetting()\n",
        "  res <- func_DataGeneration(param = tmp_param, setting = tmp_setting) |>\n",
        "    left_join(setting, by = \"trial\") |> # 課題の設定情報を追加\n",
        "    mutate(id = i) # id列を追加。値はi。\n",
        "  res100 <- bind_rows(res100, res)\n",
        "}"
      ],
      "metadata": {
        "id": "TDp7bdH3-dHQ"
      },
      "execution_count": 92,
      "outputs": []
    },
    {
      "cell_type": "code",
      "source": [
        "dim(res100) #次元数の確認"
      ],
      "metadata": {
        "id": "z_KVRxBb-nrS",
        "outputId": "d14680af-9569-47a1-8177-fed5cc47dac4",
        "colab": {
          "base_uri": "https://localhost:8080/",
          "height": 34
        }
      },
      "execution_count": 93,
      "outputs": [
        {
          "output_type": "display_data",
          "data": {
            "text/html": [
              "<style>\n",
              ".list-inline {list-style: none; margin:0; padding: 0}\n",
              ".list-inline>li {display: inline-block}\n",
              ".list-inline>li:not(:last-child)::after {content: \"\\00b7\"; padding: 0 .5ex}\n",
              "</style>\n",
              "<ol class=list-inline><li>16000</li><li>12</li></ol>\n"
            ],
            "text/markdown": "1. 16000\n2. 12\n\n\n",
            "text/latex": "\\begin{enumerate*}\n\\item 16000\n\\item 12\n\\end{enumerate*}\n",
            "text/plain": [
              "[1] 16000    12"
            ]
          },
          "metadata": {}
        }
      ]
    },
    {
      "cell_type": "code",
      "source": [
        "print(res100)"
      ],
      "metadata": {
        "id": "53_0c-wk-p3a",
        "outputId": "0c81d4ad-8c43-4ccc-e5e3-d48ec7fdba9b",
        "colab": {
          "base_uri": "https://localhost:8080/"
        }
      },
      "execution_count": 94,
      "outputs": [
        {
          "output_type": "stream",
          "name": "stdout",
          "text": [
            "\u001b[90m# A tibble: 16,000 × 12\u001b[39m\n",
            "   trial    QA    QB choice reward    pA    pB    RPE block  outA  outB    id\n",
            "   \u001b[3m\u001b[90m<int>\u001b[39m\u001b[23m \u001b[3m\u001b[90m<dbl>\u001b[39m\u001b[23m \u001b[3m\u001b[90m<dbl>\u001b[39m\u001b[23m  \u001b[3m\u001b[90m<dbl>\u001b[39m\u001b[23m  \u001b[3m\u001b[90m<dbl>\u001b[39m\u001b[23m \u001b[3m\u001b[90m<dbl>\u001b[39m\u001b[23m \u001b[3m\u001b[90m<dbl>\u001b[39m\u001b[23m  \u001b[3m\u001b[90m<dbl>\u001b[39m\u001b[23m \u001b[3m\u001b[90m<dbl>\u001b[39m\u001b[23m \u001b[3m\u001b[90m<dbl>\u001b[39m\u001b[23m \u001b[3m\u001b[90m<dbl>\u001b[39m\u001b[23m \u001b[3m\u001b[90m<int>\u001b[39m\u001b[23m\n",
            "\u001b[90m 1\u001b[39m     1 0.5    0.5       2      0 0.5   0.5   -\u001b[31m0\u001b[39m\u001b[31m.\u001b[39m\u001b[31m5\u001b[39m       1     1     0     1\n",
            "\u001b[90m 2\u001b[39m     2 0.5    0.4       1      1 0.622 0.378  0.5       1     1     0     1\n",
            "\u001b[90m 3\u001b[39m     3 0.6    0.4       1      1 0.731 0.269  0.4       1     1     0     1\n",
            "\u001b[90m 4\u001b[39m     4 0.68   0.4       1      0 0.802 0.198 -\u001b[31m0\u001b[39m\u001b[31m.\u001b[39m\u001b[31m68\u001b[39m      1     0     0     1\n",
            "\u001b[90m 5\u001b[39m     5 0.544  0.4       1      0 0.673 0.327 -\u001b[31m0\u001b[39m\u001b[31m.\u001b[39m\u001b[31m544\u001b[39m     1     0     0     1\n",
            "\u001b[90m 6\u001b[39m     6 0.435  0.4       1      1 0.544 0.456  0.565     1     1     0     1\n",
            "\u001b[90m 7\u001b[39m     7 0.548  0.4       2      0 0.677 0.323 -\u001b[31m0\u001b[39m\u001b[31m.\u001b[39m\u001b[31m4\u001b[39m       1     1     0     1\n",
            "\u001b[90m 8\u001b[39m     8 0.548  0.32      1      0 0.758 0.242 -\u001b[31m0\u001b[39m\u001b[31m.\u001b[39m\u001b[31m548\u001b[39m     1     0     0     1\n",
            "\u001b[90m 9\u001b[39m     9 0.439  0.32      1      1 0.644 0.356  0.561     1     1     0     1\n",
            "\u001b[90m10\u001b[39m    10 0.551  0.32      2      0 0.760 0.240 -\u001b[31m0\u001b[39m\u001b[31m.\u001b[39m\u001b[31m32\u001b[39m      1     1     0     1\n",
            "\u001b[90m# ℹ 15,990 more rows\u001b[39m\n"
          ]
        }
      ]
    },
    {
      "cell_type": "code",
      "source": [
        "g <- ggplot(res100, aes(x = trial, y = QA))+\n",
        "  stat_summary(geom = \"line\", fun = \"mean\", color = \"red\")+\n",
        "  stat_summary(aes(y=QB),geom = \"line\", fun = \"mean\", color = \"blue\")+\n",
        "  geom_vline(xintercept = 81, lty = \"dashed\")+ #反転試行\n",
        "  scale_y_continuous(breaks = seq(0, 1, by = 0.2), limit = c(0,1))+ # y軸の設定\n",
        "  scale_x_continuous(breaks=seq(0, 160, by=40))+ # x軸の設定\n",
        "  ylab(\"Q\")+\n",
        "  theme_classic(base_size = 20)\n",
        "\n",
        "g"
      ],
      "metadata": {
        "id": "_Ajeqpab-r9u",
        "outputId": "3dc76902-0dd1-4426-a581-f47aa649152c",
        "colab": {
          "base_uri": "https://localhost:8080/",
          "height": 437
        }
      },
      "execution_count": 95,
      "outputs": [
        {
          "output_type": "display_data",
          "data": {
            "text/plain": [
              "plot without title"
            ],
            "image/png": "[encoded data removed]"
          },
          "metadata": {
            "image/png": {
              "width": 420,
              "height": 420
            }
          }
        }
      ]
    },
    {
      "cell_type": "markdown",
      "source": [
        "# ５. パラメータ推定\n"
      ],
      "metadata": {
        "id": "g-YE8V0S-uPl"
      }
    },
    {
      "cell_type": "markdown",
      "source": [
        "## 5.1 サンプルデータの確認"
      ],
      "metadata": {
        "id": "rrfWey-piBGp"
      }
    },
    {
      "cell_type": "code",
      "source": [
        "data <- read.csv(\"https://x.gd/Ne4xj\")"
      ],
      "metadata": {
        "id": "2rHJaaZu-xZj"
      },
      "execution_count": 96,
      "outputs": []
    },
    {
      "cell_type": "code",
      "source": [
        "str(data)"
      ],
      "metadata": {
        "id": "gc89L_yN-yq_",
        "outputId": "e06d9618-a012-4d40-be23-d8ecf8fc39e1",
        "colab": {
          "base_uri": "https://localhost:8080/"
        }
      },
      "execution_count": 97,
      "outputs": [
        {
          "output_type": "stream",
          "name": "stdout",
          "text": [
            "'data.frame':\t9600 obs. of  6 variables:\n",
            " $ group : chr  \"P\" \"P\" \"P\" \"P\" ...\n",
            " $ id    : int  1 1 1 1 1 1 1 1 1 1 ...\n",
            " $ block : int  1 1 1 1 1 1 1 1 1 1 ...\n",
            " $ trial : int  1 2 3 4 5 6 7 8 9 10 ...\n",
            " $ choice: int  2 1 1 2 1 1 2 1 1 2 ...\n",
            " $ reward: int  0 1 1 0 0 1 0 0 1 0 ...\n"
          ]
        }
      ]
    },
    {
      "cell_type": "markdown",
      "source": [
        "## 5.2 尤度，対数尤度\n",
        "## 5.3 関数の作成（対数尤度を算出するコード）"
      ],
      "metadata": {
        "id": "o16Ht2lA-09t"
      }
    },
    {
      "cell_type": "code",
      "source": [
        "func_LogLik <- function(param, data){ #●引数がsettingの代わりにdata\n",
        "\n",
        "  # [1] 引数のparmに基づいて学習率と逆温度を設定\n",
        "  alpha <- param[1]\n",
        "  beta <- param[2]\n",
        "\n",
        "  # [2] 引数のdataに基づいて課題の設定●\n",
        "  trials <- data$trial\n",
        "  Ntrial <- length(trials) #試行数\n",
        "  c <- data$choice # 実際の選択\n",
        "  r <- data$reward # 実際の報酬結果\n",
        "\n",
        "  # [3]各試行の情報を入れていく枠（試行数分0のベクトル）●\n",
        "  Q_A <- numeric(Ntrial) # 各試行のAのQ値を入れる枠\n",
        "  Q_B <- numeric(Ntrial) # 各試行のBのQ値を入れる枠\n",
        "  p_A <- numeric(Ntrial) # 各試行のAの選択確率を入れる枠\n",
        "  RPE <- numeric(Ntrial)\n",
        "\n",
        "  # [4] Qの初期値を設定\n",
        "  Q_A[1] <- 0.5\n",
        "  Q_B[1] <- 0.5\n",
        "\n",
        "  # [5] 価値を更新と，選択。for文で試行数分繰り返す。\n",
        "  logLik <- 0 #対数尤度の初期値を0とする●\n",
        "\n",
        "  for (t in 1:Ntrial){\n",
        "\n",
        "    # [5-1]選択肢Aの選択確率\n",
        "    p_A[t] <- exp(beta*(Q_A[t]))/(exp(beta*(Q_A[t])) + exp(beta*(Q_B[t])))\n",
        "    #p_A[t] = 1/(1 + exp(-beta*(Q_A[t]-Q_B[t])))\n",
        "\n",
        "    # [5-2]選択に基づいてRPEの計算と，対数尤度の更新●\n",
        "    if (c[t] == 1){ # Aを選択していた場合\n",
        "      RPE[t] <- r[t]-Q_A[t]\n",
        "      logLik <- logLik + log(p_A[t])\n",
        "    }\n",
        "    if (c[t] == 2){ # Bを選択していた場合\n",
        "      RPE[t] <- r[t]-Q_B[t]\n",
        "      logLik <- logLik + log(1-p_A[t])\n",
        "    }\n",
        "\n",
        "    # [5-3]価値の更新\n",
        "    if(t < Ntrial){ # t=Ntrialの場合は，t+1試行目はないので\n",
        "\n",
        "      if(c[t] == 1){ # Aを選択していた場合\n",
        "        Q_A[t+1] <- Q_A[t] + alpha*RPE[t]\n",
        "        Q_B[t+1] <- Q_B[t]\n",
        "      }\n",
        "\n",
        "      if(c[t] == 2){ # Bを選択していた場合\n",
        "        Q_B[t+1] <- Q_B[t] + alpha*RPE[t]\n",
        "        Q_A[t+1] <- Q_A[t]\n",
        "      }\n",
        "    }\n",
        "  }\n",
        "  # [6]結果の出力●\n",
        "  logLik # 対数尤度\n",
        "}"
      ],
      "metadata": {
        "id": "odH_VRNC-3CD"
      },
      "execution_count": 98,
      "outputs": []
    },
    {
      "cell_type": "code",
      "source": [
        "data1 <- data |>\n",
        "  filter(id == 1)"
      ],
      "metadata": {
        "id": "bDsEc80I_Vcd"
      },
      "execution_count": 99,
      "outputs": []
    },
    {
      "cell_type": "code",
      "source": [
        "# 逆温度を1から8まで0.05刻みで設定する\n",
        "betas <- seq(0.05, 8, by=0.05)\n",
        "\n",
        "# 逆温度の値毎に計算された対数尤度の値を入れていく変数\n",
        "LogLik_1 <- NULL\n",
        "\n",
        "for (beta in betas){\n",
        "  param <- c(0.2, beta)\n",
        "  tmp <- func_LogLik(param = param, data = data1)\n",
        "  LogLik_1 <- c(LogLik_1, tmp)\n",
        "}"
      ],
      "metadata": {
        "id": "q_xF5Re8_YEH"
      },
      "execution_count": 100,
      "outputs": []
    },
    {
      "cell_type": "code",
      "source": [
        "# ggplotを使うので，まずはデータフレームを作成\n",
        "df <- tibble(\n",
        "  beta = betas,\n",
        "  LogLik_1 = LogLik_1,\n",
        ")\n",
        "\n",
        "ggplot(df, aes(x = beta, y = LogLik_1))+\n",
        "  geom_line()+\n",
        "  scale_x_continuous(limits = c(0,8), breaks = seq(0,8,by=1))+\n",
        "  xlab(\"逆温度\")+\n",
        "  ylab(\"対数尤度\")+\n",
        "  theme_classic(base_size = 20)"
      ],
      "metadata": {
        "id": "ozQPGOPX_bIO",
        "outputId": "2812c28f-2c04-40ff-9909-5118dfcc1143",
        "colab": {
          "base_uri": "https://localhost:8080/",
          "height": 437
        }
      },
      "execution_count": 101,
      "outputs": [
        {
          "output_type": "display_data",
          "data": {
            "text/plain": [
              "plot without title"
            ],
            "image/png": "[encoded data removed]"
          },
          "metadata": {
            "image/png": {
              "width": 420,
              "height": 420
            }
          }
        }
      ]
    },
    {
      "cell_type": "code",
      "source": [
        "# 対数尤度が最大になったインデックスを確認し，kとする\n",
        "k <- which.max(LogLik_1)\n",
        "# その時の逆温度を求める\n",
        "betas[k]"
      ],
      "metadata": {
        "id": "KwQfxtiV_dMU",
        "colab": {
          "base_uri": "https://localhost:8080/",
          "height": 34
        },
        "outputId": "9b82f31f-8455-4d01-e95d-434a6296edaf"
      },
      "execution_count": 102,
      "outputs": [
        {
          "output_type": "display_data",
          "data": {
            "text/html": [
              "1.9"
            ],
            "text/markdown": "1.9",
            "text/latex": "1.9",
            "text/plain": [
              "[1] 1.9"
            ]
          },
          "metadata": {}
        }
      ]
    },
    {
      "cell_type": "markdown",
      "source": [
        "## 5.4 optim関数の紹介"
      ],
      "metadata": {
        "id": "5XcWrmwhqle_"
      }
    },
    {
      "cell_type": "code",
      "source": [
        "func_negLogLik <- function(param, data){\n",
        "  -func_LogLik(param, data)\n",
        "}"
      ],
      "metadata": {
        "id": "uI0xgebl_heW"
      },
      "execution_count": 103,
      "outputs": []
    },
    {
      "cell_type": "code",
      "source": [
        "# 学習率と逆温度の初期値として0~1の乱数を2つ生成\n",
        "initparam <- runif(2,0,1)\n",
        "\n",
        "# 各パラメータの下限と上限\n",
        "lblist <- c(0,0) #学習率も逆温度も下限は0\n",
        "ublist <- c(1,20) #学習率の上限は1，逆温度の上限は20\n",
        "\n",
        "# optim関数を使ったパラメータ推定\n",
        "est <- optim(par = initparam, #パラメータの初期値\n",
        "             fn = func_negLogLik,\n",
        "             method=\"L-BFGS-B\",\n",
        "             lower = lblist, #パラメータの下限\n",
        "             upper = ublist, #パラメータの上限\n",
        "             data = data1)"
      ],
      "metadata": {
        "id": "EKB4f_uO_i_8"
      },
      "execution_count": 104,
      "outputs": []
    },
    {
      "cell_type": "code",
      "source": [
        "est$par"
      ],
      "metadata": {
        "id": "7R7kU3Eq_llm",
        "outputId": "380770bc-ba05-4586-835b-9d8915ef6163",
        "colab": {
          "base_uri": "https://localhost:8080/",
          "height": 34
        }
      },
      "execution_count": 105,
      "outputs": [
        {
          "output_type": "display_data",
          "data": {
            "text/html": [
              "<style>\n",
              ".list-inline {list-style: none; margin:0; padding: 0}\n",
              ".list-inline>li {display: inline-block}\n",
              ".list-inline>li:not(:last-child)::after {content: \"\\00b7\"; padding: 0 .5ex}\n",
              "</style>\n",
              "<ol class=list-inline><li>0.160772139373281</li><li>2.00894008400954</li></ol>\n"
            ],
            "text/markdown": "1. 0.160772139373281\n2. 2.00894008400954\n\n\n",
            "text/latex": "\\begin{enumerate*}\n\\item 0.160772139373281\n\\item 2.00894008400954\n\\end{enumerate*}\n",
            "text/plain": [
              "[1] 0.1607721 2.0089401"
            ]
          },
          "metadata": {}
        }
      ]
    },
    {
      "cell_type": "code",
      "source": [
        "est$value"
      ],
      "metadata": {
        "id": "BCSu9akV_oig",
        "outputId": "ab597a5c-d5b3-4863-fca0-916b256c04e2",
        "colab": {
          "base_uri": "https://localhost:8080/",
          "height": 34
        }
      },
      "execution_count": 106,
      "outputs": [
        {
          "output_type": "display_data",
          "data": {
            "text/html": [
              "88.3254220654343"
            ],
            "text/markdown": "88.3254220654343",
            "text/latex": "88.3254220654343",
            "text/plain": [
              "[1] 88.32542"
            ]
          },
          "metadata": {}
        }
      ]
    },
    {
      "cell_type": "markdown",
      "source": [
        "## 5.5 関数の作成（最尤推定を行うコード）"
      ],
      "metadata": {
        "id": "nfYPucVx_p-8"
      }
    },
    {
      "cell_type": "code",
      "source": [
        "func_ParamFit <- function(data) {\n",
        "\n",
        "  # [1] 負の対数尤度の初期値は無限大にしておく。\n",
        "  neglogLik <- Inf\n",
        "\n",
        "  # [2] optim関数を使った最尤推定を5回繰り返す\n",
        "  for (idx in 1:5) { #ランダムな初期値で5回推定を行う\n",
        "\n",
        "    # [2-1] 推定毎にランダムに初期値を設定\n",
        "    initparam <- runif(2,0,1) # 0から1から乱数を2つ発生させる\n",
        "\n",
        "    # [2-2] 各パラメータの下限と上限\n",
        "    lblist <- c(0,0) # 学習率も逆温度も下限は0\n",
        "    ublist <- c(1,20) # 学習率の上限は1，逆温度の上限は20\n",
        "\n",
        "    # [2-3] optim 関数を使ったパラメータ推定\n",
        "    est <- optim(par = initparam, #パラメータの初期値\n",
        "                 fn = func_negLogLik, #####fn = func_negLogLik(model = model),\n",
        "                 method=\"L-BFGS-B\",\n",
        "                 lower = lblist, #パラメータの下限\n",
        "                 upper = ublist, #パラメータの上限\n",
        "                 control = list(trace=0), # trace=0だと出力を最小限\n",
        "                 data = data)\n",
        "\n",
        "    # [2-4] 結果の出力（途中経過の確認用）\n",
        "    cat(\"id:\",data$id[1] ,\"NegLogLik:\",round(est$value,2), \"Par:\",round(est$par,2),\"\\n\")\n",
        "\n",
        "    # [2-5] 負の対数尤度が最小になったときのみ記録\n",
        "    if(est$value < neglogLik){# 負の対数尤度が最小になったときのみ記録\n",
        "        neglogLik <- est$value # 負の対数尤度（negative log likelihood）\n",
        "        paramest <- est$par # 推定されたパラメータ値\n",
        "    }\n",
        "  }\n",
        "\n",
        "  # [3] 結果の記録\n",
        "\n",
        "  df <- tibble(\n",
        "    id = data$id[1],#data$idは全て同じ値なので，1つ目の要素だけ取る\n",
        "    group = data$group[1], #data$groupは全て同じ値なので，1つ目の要素だけ取る\n",
        "    neglogLik = neglogLik\n",
        "  )\n",
        "\n",
        "  for (i in 1:length(paramest)){\n",
        "    df[paste0(\"param\", i)] <- paramest[i]\n",
        "  }\n",
        "\n",
        "  # [4]結果の出力●\n",
        "  df\n",
        "}"
      ],
      "metadata": {
        "id": "mkmC6FY4_rJL"
      },
      "execution_count": 107,
      "outputs": []
    },
    {
      "cell_type": "markdown",
      "source": [
        "## 5.6 パラメータ推定の実行"
      ],
      "metadata": {
        "id": "YZk3hIVBALak"
      }
    },
    {
      "cell_type": "code",
      "source": [
        "res <- func_ParamFit(data1)"
      ],
      "metadata": {
        "id": "oOadyMB1AMXU",
        "outputId": "127de095-f9aa-4d85-9c9c-6606d1395281",
        "colab": {
          "base_uri": "https://localhost:8080/"
        }
      },
      "execution_count": 108,
      "outputs": [
        {
          "output_type": "stream",
          "name": "stdout",
          "text": [
            "id: 1 NegLogLik: 88.33 Par: 0.16 2.01 \n",
            "id: 1 NegLogLik: 88.33 Par: 0.16 2.01 \n",
            "id: 1 NegLogLik: 88.33 Par: 0.16 2.01 \n",
            "id: 1 NegLogLik: 88.33 Par: 0.16 2.01 \n",
            "id: 1 NegLogLik: 88.33 Par: 0.16 2.01 \n"
          ]
        }
      ]
    },
    {
      "cell_type": "code",
      "source": [
        "str(res)"
      ],
      "metadata": {
        "id": "8YJzBZO7AN6l",
        "outputId": "59bd00df-517e-464e-a241-6376a0397298",
        "colab": {
          "base_uri": "https://localhost:8080/"
        }
      },
      "execution_count": 109,
      "outputs": [
        {
          "output_type": "stream",
          "name": "stdout",
          "text": [
            "tibble [1 × 5] (S3: tbl_df/tbl/data.frame)\n",
            " $ id       : int 1\n",
            " $ group    : chr \"P\"\n",
            " $ neglogLik: num 88.3\n",
            " $ param1   : num 0.161\n",
            " $ param2   : num 2.01\n"
          ]
        }
      ]
    },
    {
      "cell_type": "code",
      "source": [
        "resAll <- NULL # ここに，個々の推定結果を入れていく\n",
        "\n",
        "for (i in unique(data$id)){ # unique(data$id)は，dataのid列のidの一覧を重複なしで取ってくる。\n",
        "  res <- func_ParamFit(data |> filter(id == i)) # idがiのデータを引数にしてパラメータ推定\n",
        "  resAll <- bind_rows(resAll,res) # resAllに\n",
        "}"
      ],
      "metadata": {
        "id": "lizbswa0AQ-F",
        "outputId": "088e88dc-9769-4542-f465-d1f2f56a584b",
        "colab": {
          "base_uri": "https://localhost:8080/"
        }
      },
      "execution_count": 110,
      "outputs": [
        {
          "output_type": "stream",
          "name": "stdout",
          "text": [
            "id: 1 NegLogLik: 88.33 Par: 0.16 2.01 \n",
            "id: 1 NegLogLik: 88.33 Par: 0.16 2.01 \n",
            "id: 1 NegLogLik: 88.33 Par: 0.16 2.01 \n",
            "id: 1 NegLogLik: 88.33 Par: 0.16 2.01 \n",
            "id: 1 NegLogLik: 88.33 Par: 0.16 2.01 \n",
            "id: 2 NegLogLik: 85.26 Par: 0.24 2.17 \n",
            "id: 2 NegLogLik: 85.26 Par: 0.24 2.17 \n",
            "id: 2 NegLogLik: 85.26 Par: 0.24 2.17 \n",
            "id: 2 NegLogLik: 85.26 Par: 0.24 2.17 \n",
            "id: 2 NegLogLik: 85.26 Par: 0.24 2.17 \n",
            "id: 3 NegLogLik: 74.01 Par: 0.1 3.21 \n",
            "id: 3 NegLogLik: 74.01 Par: 0.1 3.21 \n",
            "id: 3 NegLogLik: 74.01 Par: 0.1 3.21 \n",
            "id: 3 NegLogLik: 74.01 Par: 0.1 3.21 \n",
            "id: 3 NegLogLik: 74.01 Par: 0.1 3.21 \n",
            "id: 4 NegLogLik: 89.98 Par: 0.2 2.13 \n",
            "id: 4 NegLogLik: 89.98 Par: 0.2 2.13 \n",
            "id: 4 NegLogLik: 89.98 Par: 0.2 2.13 \n",
            "id: 4 NegLogLik: 89.98 Par: 0.2 2.13 \n",
            "id: 4 NegLogLik: 89.98 Par: 0.2 2.13 \n",
            "id: 5 NegLogLik: 93.56 Par: 0.12 2.02 \n",
            "id: 5 NegLogLik: 93.56 Par: 0.12 2.02 \n",
            "id: 5 NegLogLik: 93.56 Par: 0.12 2.02 \n",
            "id: 5 NegLogLik: 93.56 Par: 0.12 2.02 \n",
            "id: 5 NegLogLik: 93.56 Par: 0.12 2.02 \n",
            "id: 6 NegLogLik: 81.37 Par: 0.67 1.91 \n",
            "id: 6 NegLogLik: 81.37 Par: 0.67 1.91 \n",
            "id: 6 NegLogLik: 81.37 Par: 0.67 1.91 \n",
            "id: 6 NegLogLik: 81.37 Par: 0.67 1.91 \n",
            "id: 6 NegLogLik: 81.37 Par: 0.67 1.91 \n",
            "id: 7 NegLogLik: 88.14 Par: 0.07 2.72 \n",
            "id: 7 NegLogLik: 88.14 Par: 0.07 2.72 \n",
            "id: 7 NegLogLik: 88.14 Par: 0.07 2.72 \n",
            "id: 7 NegLogLik: 88.14 Par: 0.07 2.72 \n",
            "id: 7 NegLogLik: 88.14 Par: 0.07 2.72 \n",
            "id: 8 NegLogLik: 96.48 Par: 0.16 1.75 \n",
            "id: 8 NegLogLik: 96.48 Par: 0.16 1.75 \n",
            "id: 8 NegLogLik: 96.48 Par: 0.16 1.75 \n",
            "id: 8 NegLogLik: 96.48 Par: 0.16 1.75 \n",
            "id: 8 NegLogLik: 96.48 Par: 0.16 1.75 \n",
            "id: 9 NegLogLik: 82.88 Par: 0.26 2.26 \n",
            "id: 9 NegLogLik: 82.88 Par: 0.26 2.26 \n",
            "id: 9 NegLogLik: 82.88 Par: 0.26 2.26 \n",
            "id: 9 NegLogLik: 82.88 Par: 0.26 2.26 \n",
            "id: 9 NegLogLik: 82.88 Par: 0.26 2.26 \n",
            "id: 10 NegLogLik: 81.72 Par: 0.24 2.49 \n",
            "id: 10 NegLogLik: 81.72 Par: 0.24 2.49 \n",
            "id: 10 NegLogLik: 81.72 Par: 0.24 2.49 \n",
            "id: 10 NegLogLik: 81.72 Par: 0.24 2.49 \n",
            "id: 10 NegLogLik: 81.72 Par: 0.24 2.49 \n",
            "id: 11 NegLogLik: 79.85 Par: 0.24 2.04 \n",
            "id: 11 NegLogLik: 79.85 Par: 0.24 2.04 \n",
            "id: 11 NegLogLik: 79.85 Par: 0.24 2.04 \n",
            "id: 11 NegLogLik: 79.85 Par: 0.24 2.04 \n",
            "id: 11 NegLogLik: 79.85 Par: 0.24 2.04 \n",
            "id: 12 NegLogLik: 81.21 Par: 0.16 2.44 \n",
            "id: 12 NegLogLik: 81.21 Par: 0.16 2.44 \n",
            "id: 12 NegLogLik: 81.21 Par: 0.16 2.44 \n",
            "id: 12 NegLogLik: 81.21 Par: 0.16 2.44 \n",
            "id: 12 NegLogLik: 81.21 Par: 0.16 2.44 \n",
            "id: 13 NegLogLik: 86.64 Par: 0.22 2.24 \n",
            "id: 13 NegLogLik: 86.64 Par: 0.22 2.24 \n",
            "id: 13 NegLogLik: 86.64 Par: 0.22 2.24 \n",
            "id: 13 NegLogLik: 86.64 Par: 0.22 2.24 \n",
            "id: 13 NegLogLik: 86.64 Par: 0.22 2.24 \n",
            "id: 14 NegLogLik: 77.42 Par: 0.27 2.44 \n",
            "id: 14 NegLogLik: 77.42 Par: 0.27 2.44 \n",
            "id: 14 NegLogLik: 77.42 Par: 0.27 2.44 \n",
            "id: 14 NegLogLik: 77.42 Par: 0.27 2.44 \n",
            "id: 14 NegLogLik: 77.42 Par: 0.27 2.44 \n",
            "id: 15 NegLogLik: 91.35 Par: 0.18 2.2 \n",
            "id: 15 NegLogLik: 91.35 Par: 0.18 2.2 \n",
            "id: 15 NegLogLik: 91.35 Par: 0.18 2.2 \n",
            "id: 15 NegLogLik: 91.35 Par: 0.18 2.2 \n",
            "id: 15 NegLogLik: 91.35 Par: 0.18 2.2 \n",
            "id: 16 NegLogLik: 77.92 Par: 0.24 2.77 \n",
            "id: 16 NegLogLik: 77.92 Par: 0.24 2.77 \n",
            "id: 16 NegLogLik: 77.92 Par: 0.24 2.77 \n",
            "id: 16 NegLogLik: 77.92 Par: 0.24 2.77 \n",
            "id: 16 NegLogLik: 77.92 Par: 0.24 2.77 \n",
            "id: 17 NegLogLik: 95 Par: 0.12 2.2 \n",
            "id: 17 NegLogLik: 95 Par: 0.12 2.2 \n",
            "id: 17 NegLogLik: 95 Par: 0.12 2.2 \n",
            "id: 17 NegLogLik: 95 Par: 0.12 2.2 \n",
            "id: 17 NegLogLik: 95 Par: 0.12 2.2 \n",
            "id: 18 NegLogLik: 84.56 Par: 0.13 2.26 \n",
            "id: 18 NegLogLik: 84.56 Par: 0.13 2.26 \n",
            "id: 18 NegLogLik: 84.56 Par: 0.13 2.26 \n",
            "id: 18 NegLogLik: 84.56 Par: 0.13 2.26 \n",
            "id: 18 NegLogLik: 84.56 Par: 0.13 2.26 \n",
            "id: 19 NegLogLik: 84.27 Par: 0.14 2.32 \n",
            "id: 19 NegLogLik: 84.27 Par: 0.14 2.32 \n",
            "id: 19 NegLogLik: 84.27 Par: 0.14 2.32 \n",
            "id: 19 NegLogLik: 84.27 Par: 0.14 2.32 \n",
            "id: 19 NegLogLik: 84.27 Par: 0.14 2.32 \n",
            "id: 20 NegLogLik: 84.64 Par: 0.15 2.17 \n",
            "id: 20 NegLogLik: 84.64 Par: 0.15 2.17 \n",
            "id: 20 NegLogLik: 84.64 Par: 0.15 2.17 \n",
            "id: 20 NegLogLik: 84.64 Par: 0.15 2.17 \n",
            "id: 20 NegLogLik: 84.64 Par: 0.15 2.17 \n",
            "id: 21 NegLogLik: 94.42 Par: 0.19 1.62 \n",
            "id: 21 NegLogLik: 94.42 Par: 0.19 1.62 \n",
            "id: 21 NegLogLik: 94.42 Par: 0.19 1.62 \n",
            "id: 21 NegLogLik: 94.42 Par: 0.19 1.62 \n",
            "id: 21 NegLogLik: 94.42 Par: 0.19 1.62 \n",
            "id: 22 NegLogLik: 71.4 Par: 0.16 3.08 \n",
            "id: 22 NegLogLik: 71.4 Par: 0.16 3.08 \n",
            "id: 22 NegLogLik: 71.4 Par: 0.16 3.08 \n",
            "id: 22 NegLogLik: 71.4 Par: 0.16 3.08 \n",
            "id: 22 NegLogLik: 71.4 Par: 0.16 3.08 \n",
            "id: 23 NegLogLik: 94.94 Par: 0.23 1.58 \n",
            "id: 23 NegLogLik: 94.94 Par: 0.23 1.58 \n",
            "id: 23 NegLogLik: 94.94 Par: 0.23 1.58 \n",
            "id: 23 NegLogLik: 94.94 Par: 0.23 1.58 \n",
            "id: 23 NegLogLik: 94.94 Par: 0.23 1.58 \n",
            "id: 24 NegLogLik: 87.24 Par: 0.16 2.76 \n",
            "id: 24 NegLogLik: 87.24 Par: 0.16 2.76 \n",
            "id: 24 NegLogLik: 87.24 Par: 0.16 2.76 \n",
            "id: 24 NegLogLik: 87.24 Par: 0.16 2.76 \n",
            "id: 24 NegLogLik: 87.24 Par: 0.16 2.76 \n",
            "id: 25 NegLogLik: 93.16 Par: 0.18 2.26 \n",
            "id: 25 NegLogLik: 93.16 Par: 0.18 2.26 \n",
            "id: 25 NegLogLik: 93.16 Par: 0.18 2.26 \n",
            "id: 25 NegLogLik: 93.16 Par: 0.18 2.26 \n",
            "id: 25 NegLogLik: 93.16 Par: 0.18 2.26 \n",
            "id: 26 NegLogLik: 100.75 Par: 0.15 1.96 \n",
            "id: 26 NegLogLik: 100.75 Par: 0.15 1.96 \n",
            "id: 26 NegLogLik: 100.75 Par: 0.15 1.96 \n",
            "id: 26 NegLogLik: 100.75 Par: 0.15 1.96 \n",
            "id: 26 NegLogLik: 100.75 Par: 0.15 1.96 \n",
            "id: 27 NegLogLik: 89.32 Par: 0.13 2.15 \n",
            "id: 27 NegLogLik: 89.32 Par: 0.13 2.15 \n",
            "id: 27 NegLogLik: 89.32 Par: 0.13 2.15 \n",
            "id: 27 NegLogLik: 89.32 Par: 0.13 2.15 \n",
            "id: 27 NegLogLik: 89.32 Par: 0.13 2.15 \n",
            "id: 28 NegLogLik: 98.75 Par: 0.22 1.59 \n",
            "id: 28 NegLogLik: 98.75 Par: 0.22 1.59 \n",
            "id: 28 NegLogLik: 98.75 Par: 0.22 1.59 \n",
            "id: 28 NegLogLik: 98.75 Par: 0.22 1.59 \n",
            "id: 28 NegLogLik: 98.75 Par: 0.22 1.59 \n",
            "id: 29 NegLogLik: 97.76 Par: 0.09 2.14 \n",
            "id: 29 NegLogLik: 97.76 Par: 0.09 2.14 \n",
            "id: 29 NegLogLik: 97.76 Par: 0.09 2.14 \n",
            "id: 29 NegLogLik: 97.76 Par: 0.09 2.14 \n",
            "id: 29 NegLogLik: 97.76 Par: 0.09 2.14 \n",
            "id: 30 NegLogLik: 84.93 Par: 0.15 3.19 \n",
            "id: 30 NegLogLik: 84.93 Par: 0.15 3.19 \n",
            "id: 30 NegLogLik: 84.93 Par: 0.15 3.19 \n",
            "id: 30 NegLogLik: 84.93 Par: 0.15 3.19 \n",
            "id: 30 NegLogLik: 84.93 Par: 0.15 3.19 \n",
            "id: 31 NegLogLik: 28.79 Par: 0.4 5.97 \n",
            "id: 31 NegLogLik: 28.79 Par: 0.4 5.97 \n",
            "id: 31 NegLogLik: 28.79 Par: 0.4 5.97 \n",
            "id: 31 NegLogLik: 28.79 Par: 0.4 5.97 \n",
            "id: 31 NegLogLik: 28.79 Par: 0.4 5.97 \n",
            "id: 32 NegLogLik: 52.22 Par: 0.17 5.81 \n",
            "id: 32 NegLogLik: 52.22 Par: 0.17 5.81 \n",
            "id: 32 NegLogLik: 52.22 Par: 0.17 5.81 \n",
            "id: 32 NegLogLik: 52.22 Par: 0.17 5.81 \n",
            "id: 32 NegLogLik: 52.22 Par: 0.17 5.81 \n",
            "id: 33 NegLogLik: 66.19 Par: 0.19 3.81 \n",
            "id: 33 NegLogLik: 66.19 Par: 0.19 3.81 \n",
            "id: 33 NegLogLik: 66.19 Par: 0.19 3.81 \n",
            "id: 33 NegLogLik: 66.19 Par: 0.19 3.81 \n",
            "id: 33 NegLogLik: 66.19 Par: 0.19 3.81 \n",
            "id: 34 NegLogLik: 38.55 Par: 0.23 5.3 \n",
            "id: 34 NegLogLik: 38.55 Par: 0.23 5.3 \n",
            "id: 34 NegLogLik: 38.55 Par: 0.23 5.3 \n",
            "id: 34 NegLogLik: 38.55 Par: 0.23 5.3 \n",
            "id: 34 NegLogLik: 38.55 Par: 0.23 5.3 \n",
            "id: 35 NegLogLik: 43.4 Par: 0.2 6.04 \n",
            "id: 35 NegLogLik: 43.4 Par: 0.2 6.04 \n",
            "id: 35 NegLogLik: 43.4 Par: 0.2 6.04 \n",
            "id: 35 NegLogLik: 43.4 Par: 0.2 6.04 \n",
            "id: 35 NegLogLik: 43.4 Par: 0.2 6.04 \n",
            "id: 36 NegLogLik: 43.99 Par: 0.19 4.97 \n",
            "id: 36 NegLogLik: 43.99 Par: 0.19 4.97 \n",
            "id: 36 NegLogLik: 43.99 Par: 0.19 4.97 \n",
            "id: 36 NegLogLik: 43.99 Par: 0.19 4.97 \n",
            "id: 36 NegLogLik: 43.99 Par: 0.19 4.97 \n",
            "id: 37 NegLogLik: 50.08 Par: 0.19 6.73 \n",
            "id: 37 NegLogLik: 50.08 Par: 0.19 6.73 \n",
            "id: 37 NegLogLik: 50.08 Par: 0.19 6.73 \n",
            "id: 37 NegLogLik: 50.08 Par: 0.19 6.73 \n",
            "id: 37 NegLogLik: 50.08 Par: 0.19 6.73 \n",
            "id: 38 NegLogLik: 39.1 Par: 0.16 5.47 \n",
            "id: 38 NegLogLik: 39.1 Par: 0.16 5.47 \n",
            "id: 38 NegLogLik: 39.1 Par: 0.16 5.47 \n",
            "id: 38 NegLogLik: 39.1 Par: 0.16 5.47 \n",
            "id: 38 NegLogLik: 39.1 Par: 0.16 5.47 \n",
            "id: 39 NegLogLik: 35.42 Par: 0.13 7.39 \n",
            "id: 39 NegLogLik: 35.42 Par: 0.13 7.39 \n",
            "id: 39 NegLogLik: 35.42 Par: 0.13 7.39 \n",
            "id: 39 NegLogLik: 35.42 Par: 0.13 7.39 \n",
            "id: 39 NegLogLik: 35.42 Par: 0.13 7.39 \n",
            "id: 40 NegLogLik: 25.75 Par: 0.19 6.64 \n",
            "id: 40 NegLogLik: 25.75 Par: 0.19 6.64 \n",
            "id: 40 NegLogLik: 25.75 Par: 0.19 6.64 \n",
            "id: 40 NegLogLik: 25.75 Par: 0.19 6.64 \n",
            "id: 40 NegLogLik: 25.75 Par: 0.19 6.64 \n",
            "id: 41 NegLogLik: 38.03 Par: 0.23 5.66 \n",
            "id: 41 NegLogLik: 38.03 Par: 0.23 5.66 \n",
            "id: 41 NegLogLik: 38.03 Par: 0.23 5.66 \n",
            "id: 41 NegLogLik: 38.03 Par: 0.23 5.66 \n",
            "id: 41 NegLogLik: 38.03 Par: 0.23 5.66 \n",
            "id: 42 NegLogLik: 41.96 Par: 0.17 6.26 \n",
            "id: 42 NegLogLik: 41.96 Par: 0.17 6.26 \n",
            "id: 42 NegLogLik: 41.96 Par: 0.17 6.26 \n",
            "id: 42 NegLogLik: 41.96 Par: 0.17 6.26 \n",
            "id: 42 NegLogLik: 41.96 Par: 0.17 6.26 \n",
            "id: 43 NegLogLik: 34.14 Par: 0.13 7.86 \n",
            "id: 43 NegLogLik: 34.14 Par: 0.13 7.86 \n",
            "id: 43 NegLogLik: 34.14 Par: 0.13 7.86 \n",
            "id: 43 NegLogLik: 34.14 Par: 0.13 7.86 \n",
            "id: 43 NegLogLik: 34.14 Par: 0.13 7.86 \n",
            "id: 44 NegLogLik: 30.13 Par: 0.14 8.54 \n",
            "id: 44 NegLogLik: 30.13 Par: 0.14 8.54 \n",
            "id: 44 NegLogLik: 30.13 Par: 0.14 8.54 \n",
            "id: 44 NegLogLik: 30.13 Par: 0.14 8.54 \n",
            "id: 44 NegLogLik: 30.13 Par: 0.14 8.54 \n",
            "id: 45 NegLogLik: 47.63 Par: 0.22 5.79 \n",
            "id: 45 NegLogLik: 47.63 Par: 0.22 5.79 \n",
            "id: 45 NegLogLik: 47.63 Par: 0.22 5.79 \n",
            "id: 45 NegLogLik: 47.63 Par: 0.22 5.79 \n",
            "id: 45 NegLogLik: 47.63 Par: 0.22 5.79 \n",
            "id: 46 NegLogLik: 44.26 Par: 0.29 5.17 \n",
            "id: 46 NegLogLik: 44.26 Par: 0.29 5.17 \n",
            "id: 46 NegLogLik: 44.26 Par: 0.29 5.17 \n",
            "id: 46 NegLogLik: 44.26 Par: 0.29 5.17 \n",
            "id: 46 NegLogLik: 44.26 Par: 0.29 5.17 \n",
            "id: 47 NegLogLik: 44.95 Par: 0.2 5.92 \n",
            "id: 47 NegLogLik: 44.95 Par: 0.2 5.92 \n",
            "id: 47 NegLogLik: 44.95 Par: 0.2 5.92 \n",
            "id: 47 NegLogLik: 44.95 Par: 0.2 5.92 \n",
            "id: 47 NegLogLik: 44.95 Par: 0.2 5.92 \n",
            "id: 48 NegLogLik: 52.74 Par: 0.24 4.99 \n",
            "id: 48 NegLogLik: 52.74 Par: 0.24 4.99 \n",
            "id: 48 NegLogLik: 52.74 Par: 0.24 4.99 \n",
            "id: 48 NegLogLik: 52.74 Par: 0.24 4.99 \n",
            "id: 48 NegLogLik: 52.74 Par: 0.24 4.99 \n",
            "id: 49 NegLogLik: 45.6 Par: 0.15 6.33 \n",
            "id: 49 NegLogLik: 45.6 Par: 0.15 6.33 \n",
            "id: 49 NegLogLik: 45.6 Par: 0.15 6.33 \n",
            "id: 49 NegLogLik: 45.6 Par: 0.15 6.33 \n",
            "id: 49 NegLogLik: 45.6 Par: 0.15 6.33 \n",
            "id: 50 NegLogLik: 49.12 Par: 0.24 6.1 \n",
            "id: 50 NegLogLik: 49.12 Par: 0.24 6.1 \n",
            "id: 50 NegLogLik: 49.12 Par: 0.24 6.1 \n",
            "id: 50 NegLogLik: 49.12 Par: 0.24 6.1 \n",
            "id: 50 NegLogLik: 49.12 Par: 0.24 6.1 \n",
            "id: 51 NegLogLik: 31.97 Par: 0.25 5.34 \n",
            "id: 51 NegLogLik: 31.97 Par: 0.25 5.34 \n",
            "id: 51 NegLogLik: 31.97 Par: 0.25 5.34 \n",
            "id: 51 NegLogLik: 31.97 Par: 0.25 5.34 \n",
            "id: 51 NegLogLik: 31.97 Par: 0.25 5.34 \n",
            "id: 52 NegLogLik: 31.72 Par: 0.2 6.83 \n",
            "id: 52 NegLogLik: 31.72 Par: 0.2 6.83 \n",
            "id: 52 NegLogLik: 31.72 Par: 0.2 6.83 \n",
            "id: 52 NegLogLik: 31.72 Par: 0.2 6.83 \n",
            "id: 52 NegLogLik: 31.72 Par: 0.2 6.83 \n",
            "id: 53 NegLogLik: 29.76 Par: 0.2 8.25 \n",
            "id: 53 NegLogLik: 29.76 Par: 0.2 8.25 \n",
            "id: 53 NegLogLik: 29.76 Par: 0.2 8.25 \n",
            "id: 53 NegLogLik: 29.76 Par: 0.2 8.25 \n",
            "id: 53 NegLogLik: 29.76 Par: 0.2 8.25 \n",
            "id: 54 NegLogLik: 47.57 Par: 0.25 4.99 \n",
            "id: 54 NegLogLik: 47.57 Par: 0.25 4.99 \n",
            "id: 54 NegLogLik: 47.57 Par: 0.25 4.99 \n",
            "id: 54 NegLogLik: 47.57 Par: 0.25 4.99 \n",
            "id: 54 NegLogLik: 47.57 Par: 0.25 4.99 \n",
            "id: 55 NegLogLik: 54.62 Par: 0.38 4.14 \n",
            "id: 55 NegLogLik: 54.62 Par: 0.38 4.14 \n",
            "id: 55 NegLogLik: 54.62 Par: 0.38 4.14 \n",
            "id: 55 NegLogLik: 54.62 Par: 0.38 4.14 \n",
            "id: 55 NegLogLik: 54.62 Par: 0.38 4.14 \n",
            "id: 56 NegLogLik: 50.31 Par: 0.28 5.11 \n",
            "id: 56 NegLogLik: 50.31 Par: 0.28 5.11 \n",
            "id: 56 NegLogLik: 50.31 Par: 0.28 5.11 \n",
            "id: 56 NegLogLik: 50.31 Par: 0.28 5.11 \n",
            "id: 56 NegLogLik: 50.31 Par: 0.28 5.11 \n",
            "id: 57 NegLogLik: 57.75 Par: 0.15 6.17 \n",
            "id: 57 NegLogLik: 57.75 Par: 0.15 6.17 \n",
            "id: 57 NegLogLik: 57.75 Par: 0.15 6.17 \n",
            "id: 57 NegLogLik: 57.75 Par: 0.15 6.17 \n",
            "id: 57 NegLogLik: 57.75 Par: 0.15 6.17 \n",
            "id: 58 NegLogLik: 26.77 Par: 0.18 8.03 \n",
            "id: 58 NegLogLik: 26.77 Par: 0.18 8.03 \n",
            "id: 58 NegLogLik: 26.77 Par: 0.18 8.03 \n",
            "id: 58 NegLogLik: 26.77 Par: 0.18 8.03 \n",
            "id: 58 NegLogLik: 26.77 Par: 0.18 8.03 \n",
            "id: 59 NegLogLik: 35.24 Par: 0.18 6.37 \n",
            "id: 59 NegLogLik: 35.24 Par: 0.18 6.37 \n",
            "id: 59 NegLogLik: 35.24 Par: 0.18 6.37 \n",
            "id: 59 NegLogLik: 35.24 Par: 0.18 6.37 \n",
            "id: 59 NegLogLik: 35.24 Par: 0.18 6.37 \n",
            "id: 60 NegLogLik: 47.91 Par: 0.22 5.05 \n",
            "id: 60 NegLogLik: 47.91 Par: 0.22 5.05 \n",
            "id: 60 NegLogLik: 47.91 Par: 0.22 5.05 \n",
            "id: 60 NegLogLik: 47.91 Par: 0.22 5.05 \n",
            "id: 60 NegLogLik: 47.91 Par: 0.22 5.05 \n"
          ]
        }
      ]
    },
    {
      "cell_type": "code",
      "source": [
        "resAll |>\n",
        "  group_by(group) |>\n",
        "  summarise(alpha = mean(param1),\n",
        "            beta = mean(param2))"
      ],
      "metadata": {
        "id": "F-edvtxQATVN",
        "outputId": "14182d1f-551c-4d16-c57c-ec1ab818cc63",
        "colab": {
          "base_uri": "https://localhost:8080/",
          "height": 161
        }
      },
      "execution_count": 111,
      "outputs": [
        {
          "output_type": "display_data",
          "data": {
            "text/html": [
              "<table class=\"dataframe\">\n",
              "<caption>A tibble: 2 × 3</caption>\n",
              "<thead>\n",
              "\t<tr><th scope=col>group</th><th scope=col>alpha</th><th scope=col>beta</th></tr>\n",
              "\t<tr><th scope=col>&lt;chr&gt;</th><th scope=col>&lt;dbl&gt;</th><th scope=col>&lt;dbl&gt;</th></tr>\n",
              "</thead>\n",
              "<tbody>\n",
              "\t<tr><td>H</td><td>0.2110996</td><td>6.034150</td></tr>\n",
              "\t<tr><td>P</td><td>0.1911653</td><td>2.269356</td></tr>\n",
              "</tbody>\n",
              "</table>\n"
            ],
            "text/markdown": "\nA tibble: 2 × 3\n\n| group &lt;chr&gt; | alpha &lt;dbl&gt; | beta &lt;dbl&gt; |\n|---|---|---|\n| H | 0.2110996 | 6.034150 |\n| P | 0.1911653 | 2.269356 |\n\n",
            "text/latex": "A tibble: 2 × 3\n\\begin{tabular}{lll}\n group & alpha & beta\\\\\n <chr> & <dbl> & <dbl>\\\\\n\\hline\n\t H & 0.2110996 & 6.034150\\\\\n\t P & 0.1911653 & 2.269356\\\\\n\\end{tabular}\n",
            "text/plain": [
              "  group alpha     beta    \n",
              "1 H     0.2110996 6.034150\n",
              "2 P     0.1911653 2.269356"
            ]
          },
          "metadata": {}
        }
      ]
    },
    {
      "cell_type": "code",
      "source": [
        "ggplot(resAll, aes(x = group, y = param1))+\n",
        "  stat_summary(geom = \"bar\", fun = \"mean\")+ # y軸に指定した変数の平均値で，geom_barを実施\n",
        "  geom_jitter()+ # 個々の推定値のプロットを重ねる\n",
        "  geom_hline(yintercept = 0.2, color = \"red\")+ # 真値を水平線でプロット\n",
        "  ylim(0,1.0)+\n",
        "  xlab(\"グループ\")+\n",
        "  ylab(\"学習率\")+\n",
        "  theme_classic(base_size = 20)#+\n",
        "  #ggtitle(\"学習率の真値は\\n健常群(H)，患者群(P)ともに2.0\")"
      ],
      "metadata": {
        "id": "JUt0ZDqkiFpd",
        "outputId": "6d963ee7-f660-403e-e3af-9714e57d7917",
        "colab": {
          "base_uri": "https://localhost:8080/",
          "height": 437
        }
      },
      "execution_count": 112,
      "outputs": [
        {
          "output_type": "display_data",
          "data": {
            "text/plain": [
              "plot without title"
            ],
            "image/png": "[encoded data removed]"
          },
          "metadata": {
            "image/png": {
              "width": 420,
              "height": 420
            }
          }
        }
      ]
    },
    {
      "cell_type": "code",
      "source": [
        "ggplot(resAll, aes(x = group, y = param2))+\n",
        "  stat_summary(geom = \"bar\", fun = \"mean\")+ # y軸に指定した変数の平均値で，geom_barを実施\n",
        "  geom_jitter()+ # 個々の推定値のプロットを重ねる\n",
        "  annotate(\"segment\", x = 0.5, xend = 1.5, y = 6, yend = 6, color = \"red\")+ # Hの真値の線\n",
        "  annotate(\"segment\", x = 1.5, xend = 2.5, y = 2, yend = 2, color = \"red\")+ # Pの真値の線\n",
        "  xlab(\"グループ\")+\n",
        "  ylim(0,20)+\n",
        "  ylab(\"逆温度\")+\n",
        "  theme_classic(base_size = 20)#+\n",
        "  #ggtitle(\"逆温度の真値は\\n健常群(H)が6.0，患者群(P)が2.0\")"
      ],
      "metadata": {
        "id": "JGeYQWw6kCjA",
        "outputId": "e55c0a8d-00e0-4a86-c8b6-9e096b236045",
        "colab": {
          "base_uri": "https://localhost:8080/",
          "height": 437
        }
      },
      "execution_count": 113,
      "outputs": [
        {
          "output_type": "display_data",
          "data": {
            "text/plain": [
              "plot without title"
            ],
            "image/png": "[encoded data removed]"
          },
          "metadata": {
            "image/png": {
              "width": 420,
              "height": 420
            }
          }
        }
      ]
    },
    {
      "cell_type": "markdown",
      "source": [
        "# ６. パラメータリカバリー"
      ],
      "metadata": {
        "id": "VBCO-qV4aqru"
      }
    },
    {
      "cell_type": "code",
      "source": [
        "set.seed(123)\n",
        "setting = func_TaskSetting()"
      ],
      "metadata": {
        "id": "BmTq-Tyfa_UT"
      },
      "execution_count": 114,
      "outputs": []
    },
    {
      "cell_type": "code",
      "source": [
        "set.seed(123)\n",
        "Nsim =100 # シミュレーションの回数\n",
        "df_pararecovery <- tibble() # ここに結果を記録していく\n",
        "\n",
        "for (i in 1:Nsim){\n",
        "\n",
        "  # 20人分毎に進捗の表示\n",
        "  if(i %% 20 == 0){\n",
        "    cat(\"progress: \", i,'/',Nsim, end = \"\\n\")\n",
        "  }\n",
        "\n",
        "  # [1] 真値の設定\n",
        "  true_alpha <- runif(1,0,1) # 0から1までの範囲でランダムに1個の値を生成\n",
        "  true_beta <- rexp(1,rate= 1/10) # 指数分布の形は平均値できまる。rateは平均値の逆数\n",
        "  tmp_param <- c(true_alpha, true_beta)\n",
        "\n",
        "  # [2] id = i での行動データ生成\n",
        "  tmp_data = func_DataGeneration(param = tmp_param, setting = setting)\n",
        "\n",
        "    #groupとidの情報を追加\n",
        "  tmp_data <- tmp_data |>\n",
        "    mutate(group = \"Simulation\",\n",
        "           id = i)\n",
        "\n",
        "  # [3]パラメータ推定\n",
        "  res_parafit <- func_ParamFit(data=tmp_data)\n",
        "\n",
        "  # [4] 結果の記録\n",
        "  df <- tibble(\n",
        "    #model = model,\n",
        "    sim = i,\n",
        "    true_alpha = true_alpha,\n",
        "    true_beta = true_beta,\n",
        "    est_alpha = res_parafit$param1, # 学習率の推定値,\n",
        "    est_beta = res_parafit$param2, # 逆温度の推定値,\n",
        "  )\n",
        "  df_pararecovery <- bind_rows(df_pararecovery,df)\n",
        "}"
      ],
      "metadata": {
        "id": "J3dwKkz5a9Hq",
        "outputId": "53d58fd1-607b-4c52-b4b6-43d5dcafec73",
        "colab": {
          "base_uri": "https://localhost:8080/"
        }
      },
      "execution_count": 115,
      "outputs": [
        {
          "output_type": "stream",
          "name": "stdout",
          "text": [
            "id: 1 NegLogLik: 24.66 Par: 0.25 7.87 \n",
            "id: 1 NegLogLik: 24.66 Par: 0.25 7.87 \n",
            "id: 1 NegLogLik: 24.66 Par: 0.25 7.87 \n",
            "id: 1 NegLogLik: 24.66 Par: 0.25 7.87 \n",
            "id: 1 NegLogLik: 24.66 Par: 0.25 7.87 \n",
            "id: 2 NegLogLik: 33.77 Par: 0.83 4.61 \n",
            "id: 2 NegLogLik: 33.77 Par: 0.83 4.61 \n",
            "id: 2 NegLogLik: 33.77 Par: 0.83 4.61 \n",
            "id: 2 NegLogLik: 33.77 Par: 0.83 4.61 \n",
            "id: 2 NegLogLik: 33.77 Par: 0.83 4.61 \n",
            "id: 3 NegLogLik: 7.7 Par: 0.68 20 \n",
            "id: 3 NegLogLik: 7.7 Par: 0.68 20 \n",
            "id: 3 NegLogLik: 7.7 Par: 0.68 20 \n",
            "id: 3 NegLogLik: 7.7 Par: 0.68 20 \n",
            "id: 3 NegLogLik: 7.7 Par: 0.68 20 \n",
            "id: 4 NegLogLik: 19.35 Par: 0.36 7.06 \n",
            "id: 4 NegLogLik: 19.35 Par: 0.36 7.06 \n",
            "id: 4 NegLogLik: 19.35 Par: 0.36 7.06 \n",
            "id: 4 NegLogLik: 19.35 Par: 0.36 7.06 \n",
            "id: 4 NegLogLik: 19.35 Par: 0.36 7.06 \n",
            "id: 5 NegLogLik: 24.95 Par: 0.55 6.92 \n",
            "id: 5 NegLogLik: 24.95 Par: 0.55 6.92 \n",
            "id: 5 NegLogLik: 24.95 Par: 0.55 6.92 \n",
            "id: 5 NegLogLik: 24.95 Par: 0.55 6.92 \n",
            "id: 5 NegLogLik: 24.95 Par: 0.55 6.92 \n",
            "id: 6 NegLogLik: 5.63 Par: 0.36 20 \n",
            "id: 6 NegLogLik: 5.63 Par: 0.36 20 \n",
            "id: 6 NegLogLik: 5.63 Par: 0.36 20 \n",
            "id: 6 NegLogLik: 5.63 Par: 0.36 20 \n",
            "id: 6 NegLogLik: 5.63 Par: 0.36 20 \n",
            "id: 7 NegLogLik: 6.87 Par: 0.58 20 \n",
            "id: 7 NegLogLik: 6.87 Par: 0.58 20 \n",
            "id: 7 NegLogLik: 6.87 Par: 0.58 20 \n",
            "id: 7 NegLogLik: 6.87 Par: 0.58 20 \n",
            "id: 7 NegLogLik: 6.87 Par: 0.58 20 \n",
            "id: 8 NegLogLik: 109.65 Par: 0.47 0.35 \n",
            "id: 8 NegLogLik: 109.65 Par: 0.47 0.35 \n",
            "id: 8 NegLogLik: 110.9 Par: 0 0 \n",
            "id: 8 NegLogLik: 109.59 Par: 1 0.3 \n",
            "id: 8 NegLogLik: 109.59 Par: 1 0.3 \n",
            "id: 9 NegLogLik: 19.29 Par: 0.7 10.29 \n",
            "id: 9 NegLogLik: 19.29 Par: 0.7 10.29 \n",
            "id: 9 NegLogLik: 19.29 Par: 0.7 10.29 \n",
            "id: 9 NegLogLik: 19.29 Par: 0.7 10.29 \n",
            "id: 9 NegLogLik: 19.29 Par: 0.7 10.29 \n",
            "id: 10 NegLogLik: 12.31 Par: 0.31 14.9 \n",
            "id: 10 NegLogLik: 12.31 Par: 0.31 14.9 \n",
            "id: 10 NegLogLik: 12.31 Par: 0.31 14.9 \n",
            "id: 10 NegLogLik: 12.31 Par: 0.31 14.9 \n",
            "id: 10 NegLogLik: 12.31 Par: 0.31 14.9 \n",
            "id: 11 NegLogLik: 18.71 Par: 0.62 10.77 \n",
            "id: 11 NegLogLik: 18.71 Par: 0.62 10.77 \n",
            "id: 11 NegLogLik: 18.71 Par: 0.62 10.77 \n",
            "id: 11 NegLogLik: 18.71 Par: 0.62 10.77 \n",
            "id: 11 NegLogLik: 18.71 Par: 0.62 10.77 \n",
            "id: 12 NegLogLik: 11.45 Par: 0.67 14.85 \n",
            "id: 12 NegLogLik: 11.45 Par: 0.67 14.85 \n",
            "id: 12 NegLogLik: 11.45 Par: 0.67 14.84 \n",
            "id: 12 NegLogLik: 11.45 Par: 0.67 14.85 \n",
            "id: 12 NegLogLik: 11.45 Par: 0.67 14.85 \n",
            "id: 13 NegLogLik: 75.71 Par: 0.84 1.96 \n",
            "id: 13 NegLogLik: 75.71 Par: 0.84 1.96 \n",
            "id: 13 NegLogLik: 75.71 Par: 0.84 1.96 \n",
            "id: 13 NegLogLik: 75.71 Par: 0.84 1.96 \n",
            "id: 13 NegLogLik: 75.71 Par: 0.84 1.96 \n",
            "id: 14 NegLogLik: 65.95 Par: 1 2.35 \n",
            "id: 14 NegLogLik: 65.95 Par: 1 2.35 \n",
            "id: 14 NegLogLik: 65.95 Par: 1 2.35 \n",
            "id: 14 NegLogLik: 65.95 Par: 1 2.35 \n",
            "id: 14 NegLogLik: 65.95 Par: 1 2.35 \n",
            "id: 15 NegLogLik: 73.5 Par: 0.68 2.22 \n",
            "id: 15 NegLogLik: 73.5 Par: 0.68 2.22 \n",
            "id: 15 NegLogLik: 73.5 Par: 0.68 2.22 \n",
            "id: 15 NegLogLik: 73.5 Par: 0.68 2.22 \n",
            "id: 15 NegLogLik: 73.5 Par: 0.68 2.22 \n",
            "id: 16 NegLogLik: 104 Par: 0.15 1.26 \n",
            "id: 16 NegLogLik: 104 Par: 0.15 1.26 \n",
            "id: 16 NegLogLik: 104 Par: 0.15 1.26 \n",
            "id: 16 NegLogLik: 104 Par: 0.15 1.26 \n",
            "id: 16 NegLogLik: 104 Par: 0.15 1.26 \n",
            "id: 17 NegLogLik: 65.81 Par: 0.19 3.7 \n",
            "id: 17 NegLogLik: 65.81 Par: 0.19 3.7 \n",
            "id: 17 NegLogLik: 65.81 Par: 0.19 3.7 \n",
            "id: 17 NegLogLik: 65.81 Par: 0.19 3.7 \n",
            "id: 17 NegLogLik: 65.81 Par: 0.19 3.7 \n",
            "id: 18 NegLogLik: 63.6 Par: 0.1 4.63 \n",
            "id: 18 NegLogLik: 63.6 Par: 0.1 4.63 \n",
            "id: 18 NegLogLik: 63.6 Par: 0.1 4.63 \n",
            "id: 18 NegLogLik: 63.6 Par: 0.1 4.63 \n",
            "id: 18 NegLogLik: 63.6 Par: 0.1 4.63 \n",
            "id: 19 NegLogLik: 20.14 Par: 0.52 6.81 \n",
            "id: 19 NegLogLik: 20.14 Par: 0.52 6.81 \n",
            "id: 19 NegLogLik: 20.14 Par: 0.52 6.81 \n",
            "id: 19 NegLogLik: 20.14 Par: 0.52 6.81 \n",
            "id: 19 NegLogLik: 20.14 Par: 0.52 6.81 \n",
            "progress:  20 / 100 \n",
            "id: 20 NegLogLik: 81.55 Par: 0.26 3.17 \n",
            "id: 20 NegLogLik: 81.55 Par: 0.26 3.17 \n",
            "id: 20 NegLogLik: 81.55 Par: 0.26 3.17 \n",
            "id: 20 NegLogLik: 81.55 Par: 0.26 3.17 \n",
            "id: 20 NegLogLik: 81.55 Par: 0.26 3.17 \n",
            "id: 21 NegLogLik: 5.93 Par: 0.23 20 \n",
            "id: 21 NegLogLik: 5.93 Par: 0.23 20 \n",
            "id: 21 NegLogLik: 5.93 Par: 0.23 20 \n",
            "id: 21 NegLogLik: 5.93 Par: 0.23 20 \n",
            "id: 21 NegLogLik: 5.93 Par: 0.23 20 \n",
            "id: 22 NegLogLik: 20.32 Par: 0.84 9.34 \n",
            "id: 22 NegLogLik: 20.32 Par: 0.84 9.34 \n",
            "id: 22 NegLogLik: 20.32 Par: 0.84 9.34 \n",
            "id: 22 NegLogLik: 20.32 Par: 0.84 9.34 \n",
            "id: 22 NegLogLik: 20.32 Par: 0.84 9.34 \n",
            "id: 23 NegLogLik: 27.97 Par: 0.98 20 \n",
            "id: 23 NegLogLik: 27.97 Par: 0.98 20 \n",
            "id: 23 NegLogLik: 27.97 Par: 0.98 20 \n",
            "id: 23 NegLogLik: 27.97 Par: 0.98 20 \n",
            "id: 23 NegLogLik: 27.97 Par: 0.98 20 \n",
            "id: 24 NegLogLik: 110.9 Par: 0 0 \n",
            "id: 24 NegLogLik: 110.9 Par: 0 0 \n",
            "id: 24 NegLogLik: 110.9 Par: 0 0 \n",
            "id: 24 NegLogLik: 110.29 Par: 0.14 0.31 \n",
            "id: 24 NegLogLik: 110.9 Par: 0 0 \n",
            "id: 25 NegLogLik: 14.72 Par: 0.64 12.16 \n",
            "id: 25 NegLogLik: 14.72 Par: 0.64 12.16 \n",
            "id: 25 NegLogLik: 14.72 Par: 0.64 12.16 \n",
            "id: 25 NegLogLik: 14.72 Par: 0.64 12.16 \n",
            "id: 25 NegLogLik: 14.72 Par: 0.64 12.16 \n",
            "id: 26 NegLogLik: 9.52 Par: 0.15 20 \n",
            "id: 26 NegLogLik: 9.52 Par: 0.15 20 \n",
            "id: 26 NegLogLik: 9.52 Par: 0.15 20 \n",
            "id: 26 NegLogLik: 9.52 Par: 0.15 20 \n",
            "id: 26 NegLogLik: 9.52 Par: 0.15 20 \n",
            "id: 27 NegLogLik: 9.99 Par: 0.72 20 \n",
            "id: 27 NegLogLik: 9.99 Par: 0.72 20 \n",
            "id: 27 NegLogLik: 9.99 Par: 0.72 20 \n",
            "id: 27 NegLogLik: 9.99 Par: 0.72 20 \n",
            "id: 27 NegLogLik: 9.99 Par: 0.72 20 \n",
            "id: 28 NegLogLik: 46.55 Par: 0.56 4.42 \n",
            "id: 28 NegLogLik: 46.55 Par: 0.56 4.42 \n",
            "id: 28 NegLogLik: 46.55 Par: 0.56 4.42 \n",
            "id: 28 NegLogLik: 46.55 Par: 0.56 4.42 \n",
            "id: 28 NegLogLik: 46.55 Par: 0.56 4.42 \n",
            "id: 29 NegLogLik: 92.41 Par: 0.37 1.51 \n",
            "id: 29 NegLogLik: 92.41 Par: 0.37 1.51 \n",
            "id: 29 NegLogLik: 92.41 Par: 0.37 1.51 \n",
            "id: 29 NegLogLik: 92.41 Par: 0.37 1.51 \n",
            "id: 29 NegLogLik: 92.41 Par: 0.37 1.51 \n",
            "id: 30 NegLogLik: 36.51 Par: 0.07 8.84 \n",
            "id: 30 NegLogLik: 36.51 Par: 0.07 8.84 \n",
            "id: 30 NegLogLik: 36.51 Par: 0.07 8.84 \n",
            "id: 30 NegLogLik: 36.51 Par: 0.07 8.84 \n",
            "id: 30 NegLogLik: 36.51 Par: 0.07 8.84 \n",
            "id: 31 NegLogLik: 30.92 Par: 0.15 6.42 \n",
            "id: 31 NegLogLik: 30.92 Par: 0.15 6.42 \n",
            "id: 31 NegLogLik: 30.92 Par: 0.15 6.42 \n",
            "id: 31 NegLogLik: 30.92 Par: 0.15 6.42 \n",
            "id: 31 NegLogLik: 30.92 Par: 0.15 6.42 \n",
            "id: 32 NegLogLik: 101.5 Par: 0.07 1.84 \n",
            "id: 32 NegLogLik: 101.5 Par: 0.07 1.84 \n",
            "id: 32 NegLogLik: 101.5 Par: 0.07 1.84 \n",
            "id: 32 NegLogLik: 101.5 Par: 0.07 1.84 \n",
            "id: 32 NegLogLik: 101.5 Par: 0.07 1.84 \n",
            "id: 33 NegLogLik: 29.49 Par: 0.93 19.88 \n",
            "id: 33 NegLogLik: 29.49 Par: 0.93 20 \n",
            "id: 33 NegLogLik: 29.49 Par: 0.93 19.88 \n",
            "id: 33 NegLogLik: 29.49 Par: 0.93 19.88 \n",
            "id: 33 NegLogLik: 29.49 Par: 0.93 19.88 \n",
            "id: 34 NegLogLik: 39.61 Par: 0.2 6.98 \n",
            "id: 34 NegLogLik: 39.61 Par: 0.2 6.98 \n",
            "id: 34 NegLogLik: 39.61 Par: 0.2 6.98 \n",
            "id: 34 NegLogLik: 39.61 Par: 0.2 6.98 \n",
            "id: 34 NegLogLik: 39.61 Par: 0.2 6.98 \n",
            "id: 35 NegLogLik: 28.34 Par: 0.91 13.22 \n",
            "id: 35 NegLogLik: 28.34 Par: 0.91 13.22 \n",
            "id: 35 NegLogLik: 28.34 Par: 0.91 13.22 \n",
            "id: 35 NegLogLik: 28.34 Par: 0.91 13.22 \n",
            "id: 35 NegLogLik: 28.34 Par: 0.91 13.22 \n",
            "id: 36 NegLogLik: 25.94 Par: 0.84 8.67 \n",
            "id: 36 NegLogLik: 25.94 Par: 0.84 8.67 \n",
            "id: 36 NegLogLik: 25.94 Par: 0.84 8.67 \n",
            "id: 36 NegLogLik: 25.94 Par: 0.84 8.67 \n",
            "id: 36 NegLogLik: 25.94 Par: 0.84 8.67 \n",
            "id: 37 NegLogLik: 19.53 Par: 0.85 20 \n",
            "id: 37 NegLogLik: 19.53 Par: 0.85 20 \n",
            "id: 37 NegLogLik: 19.53 Par: 0.85 20 \n",
            "id: 37 NegLogLik: 19.53 Par: 0.85 20 \n",
            "id: 37 NegLogLik: 19.53 Par: 0.85 20 \n",
            "id: 38 NegLogLik: 100.47 Par: 0.18 1.28 \n",
            "id: 38 NegLogLik: 100.47 Par: 0.18 1.28 \n",
            "id: 38 NegLogLik: 100.47 Par: 0.18 1.28 \n",
            "id: 38 NegLogLik: 100.47 Par: 0.18 1.28 \n",
            "id: 38 NegLogLik: 100.47 Par: 0.18 1.28 \n",
            "id: 39 NegLogLik: 3.7 Par: 0.5 20 \n",
            "id: 39 NegLogLik: 3.7 Par: 0.5 20 \n",
            "id: 39 NegLogLik: 3.7 Par: 0.5 20 \n",
            "id: 39 NegLogLik: 3.7 Par: 0.5 20 \n",
            "id: 39 NegLogLik: 3.7 Par: 0.5 20 \n",
            "progress:  40 / 100 \n",
            "id: 40 NegLogLik: 29.77 Par: 1 20 \n",
            "id: 40 NegLogLik: 29.77 Par: 1 20 \n",
            "id: 40 NegLogLik: 29.77 Par: 1 20 \n",
            "id: 40 NegLogLik: 29.77 Par: 1 20 \n",
            "id: 40 NegLogLik: 29.77 Par: 1 20 \n",
            "id: 41 NegLogLik: 73.68 Par: 0.12 3.21 \n",
            "id: 41 NegLogLik: 73.68 Par: 0.12 3.21 \n",
            "id: 41 NegLogLik: 73.68 Par: 0.12 3.21 \n",
            "id: 41 NegLogLik: 73.68 Par: 0.12 3.21 \n",
            "id: 41 NegLogLik: 73.68 Par: 0.12 3.21 \n",
            "id: 42 NegLogLik: 50.63 Par: 0.74 3.76 \n",
            "id: 42 NegLogLik: 50.63 Par: 0.74 3.76 \n",
            "id: 42 NegLogLik: 50.63 Par: 0.74 3.76 \n",
            "id: 42 NegLogLik: 50.63 Par: 0.74 3.76 \n",
            "id: 42 NegLogLik: 50.63 Par: 0.74 3.76 \n",
            "id: 43 NegLogLik: 23.21 Par: 0.36 6.09 \n",
            "id: 43 NegLogLik: 23.21 Par: 0.36 6.09 \n",
            "id: 43 NegLogLik: 23.21 Par: 0.36 6.09 \n",
            "id: 43 NegLogLik: 23.21 Par: 0.36 6.09 \n",
            "id: 43 NegLogLik: 23.21 Par: 0.36 6.09 \n",
            "id: 44 NegLogLik: 103.6 Par: 0.05 1.65 \n",
            "id: 44 NegLogLik: 103.6 Par: 0.05 1.65 \n",
            "id: 44 NegLogLik: 103.6 Par: 0.05 1.65 \n",
            "id: 44 NegLogLik: 103.6 Par: 0.05 1.65 \n",
            "id: 44 NegLogLik: 103.6 Par: 0.05 1.65 \n",
            "id: 45 NegLogLik: 5.27 Par: 0.43 20 \n",
            "id: 45 NegLogLik: 5.27 Par: 0.43 20 \n",
            "id: 45 NegLogLik: 5.27 Par: 0.43 20 \n",
            "id: 45 NegLogLik: 5.27 Par: 0.43 20 \n",
            "id: 45 NegLogLik: 5.27 Par: 0.43 20 \n",
            "id: 46 NegLogLik: 28.49 Par: 0.96 20 \n",
            "id: 46 NegLogLik: 28.49 Par: 0.96 19.96 \n",
            "id: 46 NegLogLik: 28.49 Par: 0.96 19.96 \n",
            "id: 46 NegLogLik: 28.49 Par: 0.96 19.96 \n",
            "id: 46 NegLogLik: 28.49 Par: 0.96 19.96 \n",
            "id: 47 NegLogLik: 100.94 Par: 0.99 0.91 \n",
            "id: 47 NegLogLik: 100.94 Par: 0.99 0.91 \n",
            "id: 47 NegLogLik: 100.94 Par: 0.99 0.91 \n",
            "id: 47 NegLogLik: 100.94 Par: 0.99 0.91 \n",
            "id: 47 NegLogLik: 100.94 Par: 0.99 0.91 \n",
            "id: 48 NegLogLik: 32.13 Par: 0.95 20 \n",
            "id: 48 NegLogLik: 32.13 Par: 0.95 20 \n",
            "id: 48 NegLogLik: 32.13 Par: 0.95 20 \n",
            "id: 48 NegLogLik: 32.13 Par: 0.95 20 \n",
            "id: 48 NegLogLik: 32.13 Par: 0.95 20 \n",
            "id: 49 NegLogLik: 21.42 Par: 0.3 7.38 \n",
            "id: 49 NegLogLik: 21.42 Par: 0.3 7.38 \n",
            "id: 49 NegLogLik: 21.42 Par: 0.3 7.38 \n",
            "id: 49 NegLogLik: 21.42 Par: 0.3 7.38 \n",
            "id: 49 NegLogLik: 21.42 Par: 0.3 7.38 \n",
            "id: 50 NegLogLik: 99.45 Par: 0.96 1.02 \n",
            "id: 50 NegLogLik: 99.45 Par: 0.96 1.02 \n",
            "id: 50 NegLogLik: 99.45 Par: 0.96 1.02 \n",
            "id: 50 NegLogLik: 99.45 Par: 0.96 1.02 \n",
            "id: 50 NegLogLik: 99.45 Par: 0.96 1.02 \n",
            "id: 51 NegLogLik: 27.76 Par: 0.67 6.53 \n",
            "id: 51 NegLogLik: 27.76 Par: 0.67 6.53 \n",
            "id: 51 NegLogLik: 27.76 Par: 0.67 6.53 \n",
            "id: 51 NegLogLik: 27.76 Par: 0.67 6.53 \n",
            "id: 51 NegLogLik: 27.76 Par: 0.67 6.53 \n",
            "id: 52 NegLogLik: 6.63 Par: 0.29 17.23 \n",
            "id: 52 NegLogLik: 6.63 Par: 0.29 17.23 \n",
            "id: 52 NegLogLik: 6.63 Par: 0.29 17.23 \n",
            "id: 52 NegLogLik: 6.63 Par: 0.29 17.23 \n",
            "id: 52 NegLogLik: 6.63 Par: 0.29 17.23 \n",
            "id: 53 NegLogLik: 100.88 Par: 1 0.89 \n",
            "id: 53 NegLogLik: 100.88 Par: 1 0.89 \n",
            "id: 53 NegLogLik: 100.88 Par: 1 0.89 \n",
            "id: 53 NegLogLik: 100.88 Par: 1 0.89 \n",
            "id: 53 NegLogLik: 100.88 Par: 1 0.89 \n",
            "id: 54 NegLogLik: 6.76 Par: 0.15 20 \n",
            "id: 54 NegLogLik: 6.76 Par: 0.15 20 \n",
            "id: 54 NegLogLik: 6.76 Par: 0.15 20 \n",
            "id: 54 NegLogLik: 6.76 Par: 0.15 20 \n",
            "id: 54 NegLogLik: 6.76 Par: 0.15 20 \n",
            "id: 55 NegLogLik: 19.2 Par: 0.4 6.31 \n",
            "id: 55 NegLogLik: 19.2 Par: 0.4 6.31 \n",
            "id: 55 NegLogLik: 19.2 Par: 0.4 6.31 \n",
            "id: 55 NegLogLik: 19.2 Par: 0.4 6.31 \n",
            "id: 55 NegLogLik: 19.2 Par: 0.4 6.31 \n",
            "id: 56 NegLogLik: 60.84 Par: 0.62 2.97 \n",
            "id: 56 NegLogLik: 60.84 Par: 0.62 2.97 \n",
            "id: 56 NegLogLik: 60.84 Par: 0.62 2.97 \n",
            "id: 56 NegLogLik: 60.84 Par: 0.62 2.97 \n",
            "id: 56 NegLogLik: 60.84 Par: 0.62 2.97 \n",
            "id: 57 NegLogLik: 31.89 Par: 0.34 6.17 \n",
            "id: 57 NegLogLik: 31.89 Par: 0.34 6.17 \n",
            "id: 57 NegLogLik: 31.89 Par: 0.34 6.17 \n",
            "id: 57 NegLogLik: 31.89 Par: 0.34 6.17 \n",
            "id: 57 NegLogLik: 31.89 Par: 0.34 6.17 \n",
            "id: 58 NegLogLik: 25.32 Par: 0.48 8.65 \n",
            "id: 58 NegLogLik: 25.32 Par: 0.48 8.65 \n",
            "id: 58 NegLogLik: 25.32 Par: 0.48 8.65 \n",
            "id: 58 NegLogLik: 25.32 Par: 0.48 8.65 \n",
            "id: 58 NegLogLik: 25.32 Par: 0.48 8.65 \n",
            "id: 59 NegLogLik: 75.01 Par: 0.33 2.3 \n",
            "id: 59 NegLogLik: 75.01 Par: 0.33 2.3 \n",
            "id: 59 NegLogLik: 75.01 Par: 0.33 2.3 \n",
            "id: 59 NegLogLik: 75.01 Par: 0.33 2.3 \n",
            "id: 59 NegLogLik: 75.01 Par: 0.33 2.3 \n",
            "progress:  60 / 100 \n",
            "id: 60 NegLogLik: 34.26 Par: 0.64 4.72 \n",
            "id: 60 NegLogLik: 34.26 Par: 0.64 4.72 \n",
            "id: 60 NegLogLik: 34.26 Par: 0.64 4.72 \n",
            "id: 60 NegLogLik: 34.26 Par: 0.64 4.72 \n",
            "id: 60 NegLogLik: 34.26 Par: 0.64 4.72 \n",
            "id: 61 NegLogLik: 5.51 Par: 0.58 20 \n",
            "id: 61 NegLogLik: 5.51 Par: 0.58 20 \n",
            "id: 61 NegLogLik: 5.51 Par: 0.58 20 \n",
            "id: 61 NegLogLik: 5.51 Par: 0.58 20 \n",
            "id: 61 NegLogLik: 5.51 Par: 0.58 20 \n",
            "id: 62 NegLogLik: 17.27 Par: 0.56 8.68 \n",
            "id: 62 NegLogLik: 17.27 Par: 0.56 8.68 \n",
            "id: 62 NegLogLik: 17.27 Par: 0.56 8.68 \n",
            "id: 62 NegLogLik: 17.27 Par: 0.56 8.68 \n",
            "id: 62 NegLogLik: 17.27 Par: 0.56 8.68 \n",
            "id: 63 NegLogLik: 11.18 Par: 0.74 20 \n",
            "id: 63 NegLogLik: 11.18 Par: 0.74 20 \n",
            "id: 63 NegLogLik: 11.18 Par: 0.74 20 \n",
            "id: 63 NegLogLik: 11.18 Par: 0.74 20 \n",
            "id: 63 NegLogLik: 11.18 Par: 0.74 20 \n",
            "id: 64 NegLogLik: 69.59 Par: 1 2.32 \n",
            "id: 64 NegLogLik: 69.59 Par: 1 2.32 \n",
            "id: 64 NegLogLik: 69.59 Par: 1 2.32 \n",
            "id: 64 NegLogLik: 69.59 Par: 1 2.32 \n",
            "id: 64 NegLogLik: 69.59 Par: 1 2.32 \n",
            "id: 65 NegLogLik: 10.48 Par: 0.74 20 \n",
            "id: 65 NegLogLik: 10.48 Par: 0.74 20 \n",
            "id: 65 NegLogLik: 10.48 Par: 0.74 20 \n",
            "id: 65 NegLogLik: 10.48 Par: 0.74 20 \n",
            "id: 65 NegLogLik: 10.48 Par: 0.74 20 \n",
            "id: 66 NegLogLik: 69.86 Par: 0.01 20 \n",
            "id: 66 NegLogLik: 69.86 Par: 0.01 20 \n",
            "id: 66 NegLogLik: 69.86 Par: 0.01 20 \n",
            "id: 66 NegLogLik: 69.86 Par: 0.01 20 \n",
            "id: 66 NegLogLik: 69.86 Par: 0.01 20 \n",
            "id: 67 NegLogLik: 5.63 Par: 0.6 20 \n",
            "id: 67 NegLogLik: 5.63 Par: 0.6 20 \n",
            "id: 67 NegLogLik: 5.63 Par: 0.6 20 \n",
            "id: 67 NegLogLik: 5.63 Par: 0.6 20 \n",
            "id: 67 NegLogLik: 5.63 Par: 0.6 20 \n",
            "id: 68 NegLogLik: 109.36 Par: 0.81 0.37 \n",
            "id: 68 NegLogLik: 109.36 Par: 0.81 0.37 \n",
            "id: 68 NegLogLik: 109.36 Par: 0.81 0.37 \n",
            "id: 68 NegLogLik: 109.36 Par: 0.81 0.37 \n",
            "id: 68 NegLogLik: 109.36 Par: 0.81 0.37 \n",
            "id: 69 NegLogLik: 11.24 Par: 0.18 12.47 \n",
            "id: 69 NegLogLik: 11.24 Par: 0.18 12.47 \n",
            "id: 69 NegLogLik: 11.24 Par: 0.18 12.47 \n",
            "id: 69 NegLogLik: 11.24 Par: 0.18 12.47 \n",
            "id: 69 NegLogLik: 11.24 Par: 0.18 12.47 \n",
            "id: 70 NegLogLik: 57.37 Par: 0.25 4.16 \n",
            "id: 70 NegLogLik: 57.37 Par: 0.25 4.16 \n",
            "id: 70 NegLogLik: 57.37 Par: 0.25 4.16 \n",
            "id: 70 NegLogLik: 57.37 Par: 0.25 4.16 \n",
            "id: 70 NegLogLik: 57.37 Par: 0.25 4.16 \n",
            "id: 71 NegLogLik: 69.32 Par: 0.85 2.65 \n",
            "id: 71 NegLogLik: 69.32 Par: 0.85 2.65 \n",
            "id: 71 NegLogLik: 69.32 Par: 0.85 2.65 \n",
            "id: 71 NegLogLik: 69.32 Par: 0.85 2.65 \n",
            "id: 71 NegLogLik: 69.32 Par: 0.85 2.65 \n",
            "id: 72 NegLogLik: 43.67 Par: 0.28 4.93 \n",
            "id: 72 NegLogLik: 43.67 Par: 0.28 4.93 \n",
            "id: 72 NegLogLik: 43.67 Par: 0.28 4.93 \n",
            "id: 72 NegLogLik: 43.67 Par: 0.28 4.93 \n",
            "id: 72 NegLogLik: 43.67 Par: 0.28 4.93 \n",
            "id: 73 NegLogLik: 103.03 Par: 1 0.8 \n",
            "id: 73 NegLogLik: 103.03 Par: 1 0.8 \n",
            "id: 73 NegLogLik: 103.03 Par: 1 0.8 \n",
            "id: 73 NegLogLik: 103.03 Par: 1 0.8 \n",
            "id: 73 NegLogLik: 103.03 Par: 1 0.8 \n",
            "id: 74 NegLogLik: 100.46 Par: 0.9 0.97 \n",
            "id: 74 NegLogLik: 100.46 Par: 0.9 0.97 \n",
            "id: 74 NegLogLik: 100.46 Par: 0.9 0.97 \n",
            "id: 74 NegLogLik: 100.46 Par: 0.9 0.97 \n",
            "id: 74 NegLogLik: 100.46 Par: 0.9 0.97 \n",
            "id: 75 NegLogLik: 25.94 Par: 0.98 20 \n",
            "id: 75 NegLogLik: 25.94 Par: 0.98 20 \n",
            "id: 75 NegLogLik: 25.94 Par: 0.98 20 \n",
            "id: 75 NegLogLik: 25.94 Par: 0.98 20 \n",
            "id: 75 NegLogLik: 25.94 Par: 0.98 20 \n",
            "id: 76 NegLogLik: 28.44 Par: 0.89 20 \n",
            "id: 76 NegLogLik: 28.44 Par: 0.89 20 \n",
            "id: 76 NegLogLik: 28.44 Par: 0.89 20 \n",
            "id: 76 NegLogLik: 28.44 Par: 0.89 20 \n",
            "id: 76 NegLogLik: 28.44 Par: 0.89 20 \n",
            "id: 77 NegLogLik: 38.18 Par: 0.72 5.04 \n",
            "id: 77 NegLogLik: 38.18 Par: 0.72 5.04 \n",
            "id: 77 NegLogLik: 38.18 Par: 0.72 5.04 \n",
            "id: 77 NegLogLik: 38.18 Par: 0.72 5.04 \n",
            "id: 77 NegLogLik: 38.18 Par: 0.72 5.04 \n",
            "id: 78 NegLogLik: 85.15 Par: 0.32 2.01 \n",
            "id: 78 NegLogLik: 85.15 Par: 0.32 2.01 \n",
            "id: 78 NegLogLik: 85.15 Par: 0.32 2.01 \n",
            "id: 78 NegLogLik: 85.15 Par: 0.32 2.01 \n",
            "id: 78 NegLogLik: 85.15 Par: 0.32 2.01 \n",
            "id: 79 NegLogLik: 110.9 Par: 0 0 \n",
            "id: 79 NegLogLik: 107.24 Par: 0.05 1.39 \n",
            "id: 79 NegLogLik: 107.24 Par: 0.05 1.39 \n",
            "id: 79 NegLogLik: 107.24 Par: 0.05 1.39 \n",
            "id: 79 NegLogLik: 107.24 Par: 0.05 1.39 \n",
            "progress:  80 / 100 \n",
            "id: 80 NegLogLik: 83.02 Par: 0.28 2.12 \n",
            "id: 80 NegLogLik: 83.02 Par: 0.28 2.12 \n",
            "id: 80 NegLogLik: 83.02 Par: 0.28 2.12 \n",
            "id: 80 NegLogLik: 83.02 Par: 0.28 2.12 \n",
            "id: 80 NegLogLik: 83.02 Par: 0.28 2.12 \n",
            "id: 81 NegLogLik: 17.5 Par: 0.27 10.23 \n",
            "id: 81 NegLogLik: 17.5 Par: 0.27 10.23 \n",
            "id: 81 NegLogLik: 17.5 Par: 0.27 10.23 \n",
            "id: 81 NegLogLik: 17.5 Par: 0.27 10.23 \n",
            "id: 81 NegLogLik: 17.5 Par: 0.27 10.23 \n",
            "id: 82 NegLogLik: 48.3 Par: 0.04 11.26 \n",
            "id: 82 NegLogLik: 48.3 Par: 0.04 11.26 \n",
            "id: 82 NegLogLik: 48.3 Par: 0.04 11.26 \n",
            "id: 82 NegLogLik: 48.3 Par: 0.04 11.26 \n",
            "id: 82 NegLogLik: 48.3 Par: 0.04 11.26 \n",
            "id: 83 NegLogLik: 50.97 Par: 0.06 7.57 \n",
            "id: 83 NegLogLik: 50.97 Par: 0.06 7.57 \n",
            "id: 83 NegLogLik: 50.97 Par: 0.06 7.57 \n",
            "id: 83 NegLogLik: 50.97 Par: 0.06 7.57 \n",
            "id: 83 NegLogLik: 50.97 Par: 0.06 7.57 \n",
            "id: 84 NegLogLik: 10 Par: 0.43 12.84 \n",
            "id: 84 NegLogLik: 10 Par: 0.43 12.84 \n",
            "id: 84 NegLogLik: 10 Par: 0.43 12.84 \n",
            "id: 84 NegLogLik: 10 Par: 0.43 12.84 \n",
            "id: 84 NegLogLik: 10 Par: 0.43 12.84 \n",
            "id: 85 NegLogLik: 106.26 Par: 0.02 2.49 \n",
            "id: 85 NegLogLik: 106.26 Par: 0.02 2.49 \n",
            "id: 85 NegLogLik: 106.26 Par: 0.02 2.49 \n",
            "id: 85 NegLogLik: 106.26 Par: 0.02 2.49 \n",
            "id: 85 NegLogLik: 106.26 Par: 0.02 2.49 \n",
            "id: 86 NegLogLik: 108.02 Par: 0.17 0.68 \n",
            "id: 86 NegLogLik: 108.02 Par: 0.17 0.68 \n",
            "id: 86 NegLogLik: 108.02 Par: 0.17 0.68 \n",
            "id: 86 NegLogLik: 110.9 Par: 0 0 \n",
            "id: 86 NegLogLik: 108.02 Par: 0.17 0.68 \n",
            "id: 87 NegLogLik: 109.89 Par: 0.5 0.35 \n",
            "id: 87 NegLogLik: 109.89 Par: 0.5 0.35 \n",
            "id: 87 NegLogLik: 109.89 Par: 0.5 0.35 \n",
            "id: 87 NegLogLik: 109.36 Par: 0.02 1.67 \n",
            "id: 87 NegLogLik: 109.36 Par: 0.02 1.67 \n",
            "id: 88 NegLogLik: 63.98 Par: 0.93 2.44 \n",
            "id: 88 NegLogLik: 63.98 Par: 0.93 2.44 \n",
            "id: 88 NegLogLik: 63.98 Par: 0.93 2.44 \n",
            "id: 88 NegLogLik: 63.98 Par: 0.93 2.44 \n",
            "id: 88 NegLogLik: 63.98 Par: 0.93 2.44 \n",
            "id: 89 NegLogLik: 14.03 Par: 0.62 12.54 \n",
            "id: 89 NegLogLik: 14.03 Par: 0.62 12.54 \n",
            "id: 89 NegLogLik: 14.03 Par: 0.62 12.54 \n",
            "id: 89 NegLogLik: 14.03 Par: 0.62 12.54 \n",
            "id: 89 NegLogLik: 14.03 Par: 0.62 12.54 \n",
            "id: 90 NegLogLik: 91.68 Par: 0.12 2.34 \n",
            "id: 90 NegLogLik: 91.68 Par: 0.12 2.34 \n",
            "id: 90 NegLogLik: 91.68 Par: 0.12 2.34 \n",
            "id: 90 NegLogLik: 91.68 Par: 0.12 2.34 \n",
            "id: 90 NegLogLik: 91.68 Par: 0.12 2.34 \n",
            "id: 91 NegLogLik: 58.28 Par: 0.65 3.13 \n",
            "id: 91 NegLogLik: 58.28 Par: 0.65 3.13 \n",
            "id: 91 NegLogLik: 58.28 Par: 0.65 3.13 \n",
            "id: 91 NegLogLik: 58.28 Par: 0.65 3.13 \n",
            "id: 91 NegLogLik: 58.28 Par: 0.65 3.13 \n",
            "id: 92 NegLogLik: 32.04 Par: 0.18 10.95 \n",
            "id: 92 NegLogLik: 32.04 Par: 0.18 10.95 \n",
            "id: 92 NegLogLik: 32.04 Par: 0.18 10.95 \n",
            "id: 92 NegLogLik: 32.04 Par: 0.18 10.95 \n",
            "id: 92 NegLogLik: 32.04 Par: 0.18 10.95 \n",
            "id: 93 NegLogLik: 22.84 Par: 0.15 9.9 \n",
            "id: 93 NegLogLik: 22.84 Par: 0.15 9.9 \n",
            "id: 93 NegLogLik: 22.84 Par: 0.15 9.9 \n",
            "id: 93 NegLogLik: 22.84 Par: 0.15 9.9 \n",
            "id: 93 NegLogLik: 22.84 Par: 0.15 9.9 \n",
            "id: 94 NegLogLik: 36.89 Par: 0.49 4.7 \n",
            "id: 94 NegLogLik: 36.89 Par: 0.49 4.7 \n",
            "id: 94 NegLogLik: 36.89 Par: 0.49 4.7 \n",
            "id: 94 NegLogLik: 36.89 Par: 0.49 4.7 \n",
            "id: 94 NegLogLik: 36.89 Par: 0.49 4.7 \n",
            "id: 95 NegLogLik: 8.64 Par: 0.37 14.35 \n",
            "id: 95 NegLogLik: 8.64 Par: 0.37 14.35 \n",
            "id: 95 NegLogLik: 8.64 Par: 0.37 14.35 \n",
            "id: 95 NegLogLik: 8.64 Par: 0.37 14.35 \n",
            "id: 95 NegLogLik: 8.64 Par: 0.37 14.35 \n",
            "id: 96 NegLogLik: 76.2 Par: 0.42 2.39 \n",
            "id: 96 NegLogLik: 76.2 Par: 0.42 2.39 \n",
            "id: 96 NegLogLik: 76.2 Par: 0.42 2.39 \n",
            "id: 96 NegLogLik: 76.2 Par: 0.42 2.39 \n",
            "id: 96 NegLogLik: 76.2 Par: 0.42 2.39 \n",
            "id: 97 NegLogLik: 110.08 Par: 0.31 0.39 \n",
            "id: 97 NegLogLik: 110.08 Par: 0.31 0.39 \n",
            "id: 97 NegLogLik: 110.08 Par: 0.31 0.39 \n",
            "id: 97 NegLogLik: 110.08 Par: 0.31 0.39 \n",
            "id: 97 NegLogLik: 110.08 Par: 0.31 0.39 \n",
            "id: 98 NegLogLik: 53.29 Par: 0.93 2.86 \n",
            "id: 98 NegLogLik: 53.29 Par: 0.93 2.86 \n",
            "id: 98 NegLogLik: 53.29 Par: 0.93 2.86 \n",
            "id: 98 NegLogLik: 53.29 Par: 0.93 2.86 \n",
            "id: 98 NegLogLik: 53.29 Par: 0.93 2.86 \n",
            "id: 99 NegLogLik: 83.02 Par: 0.57 1.7 \n",
            "id: 99 NegLogLik: 83.02 Par: 0.57 1.7 \n",
            "id: 99 NegLogLik: 83.02 Par: 0.57 1.7 \n",
            "id: 99 NegLogLik: 83.02 Par: 0.57 1.7 \n",
            "id: 99 NegLogLik: 83.02 Par: 0.57 1.7 \n",
            "progress:  100 / 100 \n",
            "id: 100 NegLogLik: 13.21 Par: 0.4 11.37 \n",
            "id: 100 NegLogLik: 13.21 Par: 0.4 11.37 \n",
            "id: 100 NegLogLik: 13.21 Par: 0.4 11.37 \n",
            "id: 100 NegLogLik: 13.21 Par: 0.4 11.37 \n",
            "id: 100 NegLogLik: 13.21 Par: 0.4 11.37 \n"
          ]
        }
      ]
    },
    {
      "cell_type": "code",
      "source": [
        "print(df_pararecovery)"
      ],
      "metadata": {
        "id": "ugt2xCuObFgZ",
        "outputId": "937201af-7ae5-47c0-fc9d-62439d01f660",
        "colab": {
          "base_uri": "https://localhost:8080/"
        }
      },
      "execution_count": 116,
      "outputs": [
        {
          "output_type": "stream",
          "name": "stdout",
          "text": [
            "\u001b[90m# A tibble: 100 × 5\u001b[39m\n",
            "     sim true_alpha true_beta est_alpha est_beta\n",
            "   \u001b[3m\u001b[90m<int>\u001b[39m\u001b[23m      \u001b[3m\u001b[90m<dbl>\u001b[39m\u001b[23m     \u001b[3m\u001b[90m<dbl>\u001b[39m\u001b[23m     \u001b[3m\u001b[90m<dbl>\u001b[39m\u001b[23m    \u001b[3m\u001b[90m<dbl>\u001b[39m\u001b[23m\n",
            "\u001b[90m 1\u001b[39m     1      0.288     5.77      0.255    7.87 \n",
            "\u001b[90m 2\u001b[39m     2      0.864     4.93      0.827    4.61 \n",
            "\u001b[90m 3\u001b[39m     3      0.486    11.7       0.679   20    \n",
            "\u001b[90m 4\u001b[39m     4      0.455     5.40      0.362    7.06 \n",
            "\u001b[90m 5\u001b[39m     5      0.479     7.08      0.546    6.92 \n",
            "\u001b[90m 6\u001b[39m     6      0.424    31.3       0.357   20    \n",
            "\u001b[90m 7\u001b[39m     7      0.448    14.3       0.579   20    \n",
            "\u001b[90m 8\u001b[39m     8      0.487     0.449     1        0.301\n",
            "\u001b[90m 9\u001b[39m     9      0.612     9.39      0.700   10.3  \n",
            "\u001b[90m10\u001b[39m    10      0.396    12.5       0.315   14.9  \n",
            "\u001b[90m# ℹ 90 more rows\u001b[39m\n"
          ]
        }
      ]
    },
    {
      "cell_type": "code",
      "source": [
        "ggplot(df_pararecovery,aes(x=true_alpha,y=est_alpha))+\n",
        "  geom_point(col = \"purple\", alpha = 0.5)+ # alphaで透明度を指定。\n",
        "  geom_abline(slope = 1, col = \"black\")+ # 真値と推定値が一致すればこの対角線上にプロットされる\n",
        "  xlab(expression(paste(\"真値 \",alpha)))+ # ギリシャ文字の表示にはexpressionを使う\n",
        "  ylab(expression(paste(\"推定値 \",alpha)))+\n",
        "  theme_classic(base_size = 20)+\n",
        "  theme(aspect.ratio=1) # グラフの縦横比を1:1に"
      ],
      "metadata": {
        "id": "37uumi1ZbIeP",
        "outputId": "9188c224-036f-424f-e4be-63fd85540e16",
        "colab": {
          "base_uri": "https://localhost:8080/",
          "height": 437
        }
      },
      "execution_count": 117,
      "outputs": [
        {
          "output_type": "display_data",
          "data": {
            "text/plain": [
              "plot without title"
            ],
            "image/png": "[encoded data removed]"
          },
          "metadata": {
            "image/png": {
              "width": 420,
              "height": 420
            }
          }
        }
      ]
    },
    {
      "cell_type": "code",
      "source": [
        "cor.test(df_pararecovery$true_alpha, df_pararecovery$est_alpha)"
      ],
      "metadata": {
        "id": "xOlUMzrTbShu",
        "outputId": "7a263284-16eb-45bc-a3ed-5148b2ef49fc",
        "colab": {
          "base_uri": "https://localhost:8080/",
          "height": 208
        }
      },
      "execution_count": 118,
      "outputs": [
        {
          "output_type": "display_data",
          "data": {
            "text/plain": [
              "\n",
              "\tPearson's product-moment correlation\n",
              "\n",
              "data:  df_pararecovery$true_alpha and df_pararecovery$est_alpha\n",
              "t = 17.563, df = 98, p-value < 2.2e-16\n",
              "alternative hypothesis: true correlation is not equal to 0\n",
              "95 percent confidence interval:\n",
              " 0.8140102 0.9115828\n",
              "sample estimates:\n",
              "      cor \n",
              "0.8711443 \n"
            ]
          },
          "metadata": {}
        }
      ]
    },
    {
      "cell_type": "code",
      "source": [
        "ggplot(df_pararecovery,aes(x=true_beta,y=est_beta))+\n",
        "  geom_point(col = \"purple\", alpha = 0.5)+ # alphaで透明度を指定。\n",
        "  geom_abline(slope = 1, col = \"black\")+ # 真値と推定値が一致すればこの対角線上にプロットされる\n",
        "  xlab(expression(paste(\"真値 \",beta)))+ # ギリシャ文字の表示にはexpressionを使う\n",
        "  ylab(expression(paste(\"推定値 \",beta)))+\n",
        "  scale_x_log10()+ #対数軸に変更\n",
        "  scale_y_log10()+\n",
        "  theme_classic(base_size = 20)+\n",
        "  theme(aspect.ratio=1) # グラフの縦横比を1:1に"
      ],
      "metadata": {
        "id": "tC9sEtECbU0G",
        "outputId": "3bb1cbf6-9d91-4e38-ba99-739a848e822c",
        "colab": {
          "base_uri": "https://localhost:8080/",
          "height": 437
        }
      },
      "execution_count": 119,
      "outputs": [
        {
          "output_type": "display_data",
          "data": {
            "text/plain": [
              "plot without title"
            ],
            "image/png": "[encoded data removed]"
          },
          "metadata": {
            "image/png": {
              "width": 420,
              "height": 420
            }
          }
        }
      ]
    },
    {
      "cell_type": "code",
      "source": [
        "cor.test(df_pararecovery$true_beta, df_pararecovery$est_beta)"
      ],
      "metadata": {
        "id": "QAD0oqCrbVz2",
        "outputId": "1200f30a-c8c7-4af0-896d-3efaf5fa33f5",
        "colab": {
          "base_uri": "https://localhost:8080/",
          "height": 208
        }
      },
      "execution_count": 120,
      "outputs": [
        {
          "output_type": "display_data",
          "data": {
            "text/plain": [
              "\n",
              "\tPearson's product-moment correlation\n",
              "\n",
              "data:  df_pararecovery$true_beta and df_pararecovery$est_beta\n",
              "t = 16.304, df = 98, p-value < 2.2e-16\n",
              "alternative hypothesis: true correlation is not equal to 0\n",
              "95 percent confidence interval:\n",
              " 0.7911816 0.9000706\n",
              "sample estimates:\n",
              "      cor \n",
              "0.8547669 \n"
            ]
          },
          "metadata": {}
        }
      ]
    },
    {
      "cell_type": "markdown",
      "source": [
        "# ７. モデル比較"
      ],
      "metadata": {
        "id": "72zQ6rqCa304"
      }
    },
    {
      "cell_type": "markdown",
      "source": [
        "## 7.1 学習率の非対称性を組み込んだモデル"
      ],
      "metadata": {
        "id": "TyMe_oWkeEzK"
      }
    },
    {
      "cell_type": "code",
      "source": [
        "func_LogLik <- function(param, data, model = \"Model1\"){# modelを追加\n",
        "\n",
        "  # [1] 引数のmodelとparamとに基づいてパラメータを設定\n",
        "  if(model == \"Model1\"){\n",
        "    alpha <- param[1]\n",
        "    beta <- param[2]\n",
        "  } else if (model == \"Model2\"){\n",
        "    alphaP <- param [1] # 報酬予測誤差が正の場合の学習率\n",
        "    alphaN <- param [2] # 報酬予測誤差が負の場合の学習率\n",
        "    beta <- param [3]\n",
        "  }\n",
        "\n",
        "  # [2] 引数のdataに基づいて課題の設定\n",
        "  trials <- data$trial\n",
        "  Ntrial <- length(trials) #試行数\n",
        "  c <- data$choice # 実際の選択\n",
        "  r <- data$reward # 実際の報酬結果\n",
        "\n",
        "  # [3]各試行の情報を入れていく枠（試行数分0のベクトル\n",
        "  Q_A <- numeric(Ntrial) # 各試行のAのQ値を入れる枠\n",
        "  Q_B <- numeric(Ntrial) # 各試行のBのQ値を入れる枠\n",
        "  p_A <- numeric(Ntrial) # 各試行のAの選択確率を入れる枠\n",
        "  RPE <- numeric(Ntrial)\n",
        "\n",
        "  # [4] Qの初期値を設定\n",
        "  Q_A[1] <- 0.5\n",
        "  Q_B[1] <- 0.5\n",
        "\n",
        "  # [5] 価値を更新と，選択。for文で試行数分繰り返す。\n",
        "  logLik = 0 #対数尤度の初期値を0とする\n",
        "\n",
        "  for (t in 1:Ntrial){\n",
        "\n",
        "    # [5-1]選択肢Aの選択確率\n",
        "    p_A[t] <- exp(beta*(Q_A[t]))/(exp(beta*(Q_A[t])) + exp(beta*(Q_B[t])))\n",
        "    #p_A[t] <- 1/(1 + exp(-beta*(Q_A[t]-Q_B[t])))\n",
        "\n",
        "    # [5-2]選択に基づいてRPEの計算と，対数尤度の更新\n",
        "    if (c[t] == 1){ # Aを選択していた場合\n",
        "      RPE[t] <- r[t]-Q_A[t]\n",
        "      logLik <- logLik + log(p_A[t])\n",
        "    }\n",
        "    if (c[t] == 2){ # Bを選択していた場合\n",
        "      RPE[t] <- r[t]-Q_B[t]\n",
        "      logLik <- logLik + log(1-p_A[t])\n",
        "    }\n",
        "\n",
        "    # [5-3]価値の更新\n",
        "    if(t < Ntrial){ # t=Ntrialの場合は，t+1試行目はないので\n",
        "\n",
        "      # M2の場合はRPEの正負による条件分岐\n",
        "      if(model == \"Model2\" & RPE[t] >= 0){\n",
        "        alpha <- alphaP\n",
        "      } else if (model == \"Model2\" & RPE[t] < 0) {\n",
        "        alpha <- alphaN\n",
        "      }\n",
        "\n",
        "      if(c[t] == 1){ # Aを選択していた場合\n",
        "        Q_A[t+1] <- Q_A[t] + alpha*RPE[t]\n",
        "        Q_B[t+1] <- Q_B[t]\n",
        "      }\n",
        "\n",
        "      if(c[t] == 2){ # Bを選択していた場合\n",
        "        Q_B[t+1] <- Q_B[t] + alpha*RPE[t]\n",
        "        Q_A[t+1] <- Q_A[t]\n",
        "      }\n",
        "    }\n",
        "  }\n",
        "  # [6]結果の出力\n",
        "  return(logLik)\n",
        "}"
      ],
      "metadata": {
        "id": "uiefGT5ZawT5"
      },
      "execution_count": 121,
      "outputs": []
    },
    {
      "cell_type": "code",
      "source": [
        "func_negLogLik <- function(param, data, model = \"Model1\"){\n",
        "  NegLogLik <- -func_LogLik(param, data, model)\n",
        "  return(NegLogLik)\n",
        "}"
      ],
      "metadata": {
        "id": "6Xrd6VHRc5Sm"
      },
      "execution_count": 122,
      "outputs": []
    },
    {
      "cell_type": "code",
      "source": [
        "func_ParamFit <- function(data, model = \"Model1\") {\n",
        "\n",
        "  # [1] 負の対数尤度の初期値は無限大にしておく。\n",
        "  neglogLik <- Inf\n",
        "\n",
        "  # [2] optim関数を使った最尤推定を5回繰り返す\n",
        "  for (idx in 1:5) { #ランダムな初期値で5回推定を行う\n",
        "\n",
        "    # [2-1] 推定毎にランダムに初期値を設定\n",
        "    if(model == \"Model1\"){\n",
        "      initparam <- runif(2,0,1) # パラメータ数が2つなので初期値も2つ\n",
        "    } else if (model == \"Model2\"){\n",
        "      initparam <- runif(3,0,1) # パラメータ数が3つなので初期値も3つ\n",
        "    }\n",
        "\n",
        "    # [2-2] 各パラメータの下限と上限\n",
        "    if(model == \"Model1\"){\n",
        "      lblist <- c(0,0)  # α, βの下限\n",
        "      ublist <- c(1,20) # α, βの上限\n",
        "    } else if (model == \"Model2\"){\n",
        "      lblist <- c(0,0,0)  # αP，αN, βの下限\n",
        "      ublist <- c(1,1,20) # αP，αN, βの上限\n",
        "    }\n",
        "\n",
        "    # [2-3] optim 関数を使ったパラメータ推定\n",
        "    est <- optim(par = initparam, #パラメータの初期値\n",
        "                 fn = func_negLogLik,\n",
        "                 method=\"L-BFGS-B\",\n",
        "                 lower = lblist, #パラメータの下限\n",
        "                 upper = ublist, #パラメータの上限\n",
        "                 control = list(trace=0), # trace=0だと出力を最小限\n",
        "                 data = data,\n",
        "                 model = model)\n",
        "\n",
        "    # [2-4] 結果の出力（途中経過の確認用）\n",
        "    #cat(\"id:\",data$id[1] ,\"NegLogLik:\",round(est$value,2), \"Par:\",round(est$par,2),\"\\n\")\n",
        "\n",
        "    # [2-5] 負の対数尤度が最小になったときのみ記録\n",
        "    if(est$value < neglogLik){# 負の対数尤度が最小になったときのみ記録\n",
        "        neglogLik <- est$value # 負の対数尤度（negative log likelihood）\n",
        "        paramest <- est$par # 推定されたパラメータ値\n",
        "    }\n",
        "\n",
        "  }\n",
        "\n",
        "  # [3] 結果の記録\n",
        "  df <- tibble(\n",
        "    id = data$id[1],#data$idは全て同じ値なので，1つ目の要素だけ取る\n",
        "    group = data$group[1], #data$groupは全て同じ値なので，1つ目の要素だけ取る\n",
        "    neglogLik = neglogLik\n",
        "  )\n",
        "\n",
        "  for (i in 1:length(paramest)){\n",
        "    df[paste0(\"param\", i)] <- paramest[i]\n",
        "  }\n",
        "\n",
        "  # [4] 結果の出力\n",
        "  df\n",
        "}"
      ],
      "metadata": {
        "id": "m6N8xvlbc_RS"
      },
      "execution_count": 123,
      "outputs": []
    },
    {
      "cell_type": "markdown",
      "source": [
        "## 7.2 モデル比較の実行"
      ],
      "metadata": {
        "id": "SOqWQyKHeL0j"
      }
    },
    {
      "cell_type": "code",
      "source": [
        "data <- read.csv(\"https://x.gd/Ne4xj\")"
      ],
      "metadata": {
        "id": "cg-6zrKbdBgI"
      },
      "execution_count": 124,
      "outputs": []
    },
    {
      "cell_type": "code",
      "source": [
        "N = unique(data$id) |> length()# dataに含まれる参加者の数\n",
        "df_M1 <- tibble()\n",
        "\n",
        "for (i in unique(data$id)){\n",
        "  tmp_data = data |> filter(id == i)\n",
        "  res <- func_ParamFit(tmp_data, model = \"Model1\")\n",
        "  df_M1 <- bind_rows(df_M1,res)\n",
        "}"
      ],
      "metadata": {
        "id": "x7CRQ0IkdKY2"
      },
      "execution_count": 126,
      "outputs": []
    },
    {
      "cell_type": "code",
      "source": [
        "df_M1 <- df_M1 |>\n",
        "  mutate(AIC = 2*neglogLik +2*2, #パラメータ数は2\n",
        "         BIC = 2*neglogLik +2*log(160))"
      ],
      "metadata": {
        "id": "cd6NMFY7dMzq"
      },
      "execution_count": 127,
      "outputs": []
    },
    {
      "cell_type": "code",
      "source": [
        "N = unique(data$id) |> length()# dataに含まれる参加者の数\n",
        "df_M2 <- tibble()\n",
        "\n",
        "for (i in unique(data$id)){ #\n",
        "  tmp_data = data |> filter(id == i)\n",
        "  res <- func_ParamFit(tmp_data, model = \"Model2\")\n",
        "  df_M2 <- bind_rows(df_M2,res)\n",
        "}"
      ],
      "metadata": {
        "id": "-rpazV2wdO_V"
      },
      "execution_count": 128,
      "outputs": []
    },
    {
      "cell_type": "code",
      "source": [
        "df_M2 <- df_M2 |>\n",
        "  mutate(AIC = 2*neglogLik +2*3, #パラメータ数は3\n",
        "         BIC = 2*neglogLik +3*log(160))"
      ],
      "metadata": {
        "id": "bBXbdoFxdQ0U"
      },
      "execution_count": 129,
      "outputs": []
    },
    {
      "cell_type": "code",
      "source": [
        "print(paste(\"[Model1] AIC:\", sum(df_M1$AIC) |> round(), \", BIC:\", sum(df_M1$BIC) |> round()))\n",
        "print(paste(\"[Model2] AIC:\", sum(df_M2$AIC) |> round(), \", BIC:\", sum(df_M2$BIC) |> round()))"
      ],
      "metadata": {
        "id": "FPYYU7WudS1m",
        "outputId": "99cab359-21e4-45ed-dadf-e34e04fc7648",
        "colab": {
          "base_uri": "https://localhost:8080/"
        }
      },
      "execution_count": 130,
      "outputs": [
        {
          "output_type": "stream",
          "name": "stdout",
          "text": [
            "[1] \"[Model1] AIC: 8006 , BIC: 8375\"\n",
            "[1] \"[Model2] AIC: 8051 , BIC: 8605\"\n"
          ]
        }
      ]
    }
  ]
}